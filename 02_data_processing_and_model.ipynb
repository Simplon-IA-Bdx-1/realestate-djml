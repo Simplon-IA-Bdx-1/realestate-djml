{
 "cells": [
  {
   "cell_type": "code",
   "execution_count": 1,
   "metadata": {},
   "outputs": [
    {
     "data": {
      "application/javascript": [
       "IPython.notebook.set_autosave_interval(0)"
      ]
     },
     "metadata": {},
     "output_type": "display_data"
    },
    {
     "name": "stdout",
     "output_type": "stream",
     "text": [
      "Autosave disabled\n"
     ]
    }
   ],
   "source": [
    "%autosave 0\n",
    "import numpy \n",
    "import matplotlib\n",
    "import pickle\n",
    "import pandas as pd\n",
    "import numpy as np \n",
    "import tensorflow as tf\n",
    "from pandas import read_csv\n",
    "from matplotlib import pyplot\n",
    "from pandas.plotting import scatter_matrix \n",
    "from numpy import set_printoptions \n",
    "from sklearn.model_selection import KFold\n",
    "from sklearn.linear_model import LinearRegression, LogisticRegression\n",
    "from sklearn.ensemble import RandomForestRegressor, BaggingRegressor\n",
    "from sklearn.tree import DecisionTreeRegressor\n",
    "from sklearn.pipeline import Pipeline\n",
    "from sklearn.model_selection import train_test_split\n",
    "from sklearn import metrics\n",
    "from sklearn.preprocessing import OneHotEncoder\n",
    "from sklearn.impute import SimpleImputer\n",
    "from xgboost import XGBRFRegressor, XGBRegressor\n",
    "from sklearn.compose import ColumnTransformer\n",
    "\n",
    "set_printoptions(precision=0)\n",
    "pd.set_option(\"display.precision\", 2)\n",
    "pd.option_context('display.float_format', '{:0f}'.format);\n",
    "\n",
    "seed = 15\n",
    "#tf.random.set_seed(seed)\n",
    "tf.set_random_seed(seed)\n",
    "numpy.random.seed(seed)"
   ]
  },
  {
   "cell_type": "code",
   "execution_count": 2,
   "metadata": {},
   "outputs": [],
   "source": [
    "# Importation du fichier csv dans un dataframe\n",
    "# df_train_full = read_csv( './dataset-template.csv', index_col=0)\n",
    "df_train_full = read_csv( './csv/realstate-data.csv', index_col=0)"
   ]
  },
  {
   "cell_type": "code",
   "execution_count": 3,
   "metadata": {},
   "outputs": [
    {
     "name": "stdout",
     "output_type": "stream",
     "text": [
      "(7200, 12)\n"
     ]
    },
    {
     "data": {
      "text/html": [
       "<div>\n",
       "<style scoped>\n",
       "    .dataframe tbody tr th:only-of-type {\n",
       "        vertical-align: middle;\n",
       "    }\n",
       "\n",
       "    .dataframe tbody tr th {\n",
       "        vertical-align: top;\n",
       "    }\n",
       "\n",
       "    .dataframe thead th {\n",
       "        text-align: right;\n",
       "    }\n",
       "</style>\n",
       "<table border=\"1\" class=\"dataframe\">\n",
       "  <thead>\n",
       "    <tr style=\"text-align: right;\">\n",
       "      <th></th>\n",
       "      <th>ref</th>\n",
       "      <th>city</th>\n",
       "      <th>county</th>\n",
       "      <th>district</th>\n",
       "      <th>area_m2</th>\n",
       "      <th>ground_m2</th>\n",
       "      <th>nb_room</th>\n",
       "      <th>nb_bedroom</th>\n",
       "      <th>pool</th>\n",
       "      <th>cellar</th>\n",
       "      <th>garage</th>\n",
       "      <th>output</th>\n",
       "    </tr>\n",
       "  </thead>\n",
       "  <tbody>\n",
       "    <tr>\n",
       "      <td>0</td>\n",
       "      <td>/fr/properties/30731a-133656.htm</td>\n",
       "      <td>Saint-Maurin</td>\n",
       "      <td>Lot-et-Garonne</td>\n",
       "      <td>Aquitaine</td>\n",
       "      <td>100.0</td>\n",
       "      <td>NaN</td>\n",
       "      <td>5.0</td>\n",
       "      <td>3.0</td>\n",
       "      <td>NaN</td>\n",
       "      <td>NaN</td>\n",
       "      <td>NaN</td>\n",
       "      <td>210000</td>\n",
       "    </tr>\n",
       "    <tr>\n",
       "      <td>1</td>\n",
       "      <td>/fr/properties/88486a-95148cj265.htm</td>\n",
       "      <td>Castelnau-de-Médoc</td>\n",
       "      <td>Gironde</td>\n",
       "      <td>Aquitaine</td>\n",
       "      <td>328.0</td>\n",
       "      <td>3700.0</td>\n",
       "      <td>9.0</td>\n",
       "      <td>4.0</td>\n",
       "      <td>NaN</td>\n",
       "      <td>NaN</td>\n",
       "      <td>True</td>\n",
       "      <td>840000</td>\n",
       "    </tr>\n",
       "    <tr>\n",
       "      <td>2</td>\n",
       "      <td>/fr/properties/44945a-m728.htm</td>\n",
       "      <td>Peyrehorade</td>\n",
       "      <td>Landes</td>\n",
       "      <td>Aquitaine</td>\n",
       "      <td>814.0</td>\n",
       "      <td>100000.0</td>\n",
       "      <td>19.0</td>\n",
       "      <td>8.0</td>\n",
       "      <td>True</td>\n",
       "      <td>True</td>\n",
       "      <td>NaN</td>\n",
       "      <td>1950000</td>\n",
       "    </tr>\n",
       "    <tr>\n",
       "      <td>3</td>\n",
       "      <td>/fr/properties/32488a-2534.htm</td>\n",
       "      <td>Bourlens</td>\n",
       "      <td>Lot-et-Garonne</td>\n",
       "      <td>Aquitaine</td>\n",
       "      <td>406.0</td>\n",
       "      <td>13200.0</td>\n",
       "      <td>14.0</td>\n",
       "      <td>10.0</td>\n",
       "      <td>NaN</td>\n",
       "      <td>NaN</td>\n",
       "      <td>NaN</td>\n",
       "      <td>975200</td>\n",
       "    </tr>\n",
       "    <tr>\n",
       "      <td>4</td>\n",
       "      <td>/fr/properties/32488a-2557.htm</td>\n",
       "      <td>Monsempron-Libos</td>\n",
       "      <td>Lot-et-Garonne</td>\n",
       "      <td>Aquitaine</td>\n",
       "      <td>99.0</td>\n",
       "      <td>35.0</td>\n",
       "      <td>4.0</td>\n",
       "      <td>3.0</td>\n",
       "      <td>NaN</td>\n",
       "      <td>NaN</td>\n",
       "      <td>NaN</td>\n",
       "      <td>101520</td>\n",
       "    </tr>\n",
       "  </tbody>\n",
       "</table>\n",
       "</div>"
      ],
      "text/plain": [
       "                                    ref                city          county  \\\n",
       "0      /fr/properties/30731a-133656.htm        Saint-Maurin  Lot-et-Garonne   \n",
       "1  /fr/properties/88486a-95148cj265.htm  Castelnau-de-Médoc         Gironde   \n",
       "2        /fr/properties/44945a-m728.htm         Peyrehorade          Landes   \n",
       "3        /fr/properties/32488a-2534.htm            Bourlens  Lot-et-Garonne   \n",
       "4        /fr/properties/32488a-2557.htm    Monsempron-Libos  Lot-et-Garonne   \n",
       "\n",
       "    district  area_m2  ground_m2  nb_room  nb_bedroom  pool cellar garage  \\\n",
       "0  Aquitaine    100.0        NaN      5.0         3.0   NaN    NaN    NaN   \n",
       "1  Aquitaine    328.0     3700.0      9.0         4.0   NaN    NaN   True   \n",
       "2  Aquitaine    814.0   100000.0     19.0         8.0  True   True    NaN   \n",
       "3  Aquitaine    406.0    13200.0     14.0        10.0   NaN    NaN    NaN   \n",
       "4  Aquitaine     99.0       35.0      4.0         3.0   NaN    NaN    NaN   \n",
       "\n",
       "    output  \n",
       "0   210000  \n",
       "1   840000  \n",
       "2  1950000  \n",
       "3   975200  \n",
       "4   101520  "
      ]
     },
     "execution_count": 3,
     "metadata": {},
     "output_type": "execute_result"
    }
   ],
   "source": [
    "print(df_train_full.shape)\n",
    "df_train_full.head(5)"
   ]
  },
  {
   "cell_type": "code",
   "execution_count": 4,
   "metadata": {},
   "outputs": [
    {
     "data": {
      "text/html": [
       "<div>\n",
       "<style scoped>\n",
       "    .dataframe tbody tr th:only-of-type {\n",
       "        vertical-align: middle;\n",
       "    }\n",
       "\n",
       "    .dataframe tbody tr th {\n",
       "        vertical-align: top;\n",
       "    }\n",
       "\n",
       "    .dataframe thead th {\n",
       "        text-align: right;\n",
       "    }\n",
       "</style>\n",
       "<table border=\"1\" class=\"dataframe\">\n",
       "  <thead>\n",
       "    <tr style=\"text-align: right;\">\n",
       "      <th></th>\n",
       "      <th>area_m2</th>\n",
       "      <th>ground_m2</th>\n",
       "      <th>nb_room</th>\n",
       "      <th>nb_bedroom</th>\n",
       "      <th>output</th>\n",
       "    </tr>\n",
       "  </thead>\n",
       "  <tbody>\n",
       "    <tr>\n",
       "      <td>count</td>\n",
       "      <td>6880.00</td>\n",
       "      <td>5.74e+03</td>\n",
       "      <td>6311.00</td>\n",
       "      <td>6221.00</td>\n",
       "      <td>7.20e+03</td>\n",
       "    </tr>\n",
       "    <tr>\n",
       "      <td>mean</td>\n",
       "      <td>313.85</td>\n",
       "      <td>2.45e+04</td>\n",
       "      <td>7.10</td>\n",
       "      <td>4.52</td>\n",
       "      <td>4.53e+05</td>\n",
       "    </tr>\n",
       "    <tr>\n",
       "      <td>std</td>\n",
       "      <td>1052.33</td>\n",
       "      <td>3.63e+05</td>\n",
       "      <td>3.77</td>\n",
       "      <td>2.34</td>\n",
       "      <td>6.30e+05</td>\n",
       "    </tr>\n",
       "    <tr>\n",
       "      <td>min</td>\n",
       "      <td>1.00</td>\n",
       "      <td>1.00e+00</td>\n",
       "      <td>2.00</td>\n",
       "      <td>2.00</td>\n",
       "      <td>8.00e+03</td>\n",
       "    </tr>\n",
       "    <tr>\n",
       "      <td>25%</td>\n",
       "      <td>125.00</td>\n",
       "      <td>1.11e+03</td>\n",
       "      <td>5.00</td>\n",
       "      <td>3.00</td>\n",
       "      <td>1.98e+05</td>\n",
       "    </tr>\n",
       "    <tr>\n",
       "      <td>50%</td>\n",
       "      <td>180.00</td>\n",
       "      <td>3.00e+03</td>\n",
       "      <td>6.00</td>\n",
       "      <td>4.00</td>\n",
       "      <td>3.11e+05</td>\n",
       "    </tr>\n",
       "    <tr>\n",
       "      <td>75%</td>\n",
       "      <td>280.00</td>\n",
       "      <td>9.48e+03</td>\n",
       "      <td>8.00</td>\n",
       "      <td>5.00</td>\n",
       "      <td>4.98e+05</td>\n",
       "    </tr>\n",
       "    <tr>\n",
       "      <td>max</td>\n",
       "      <td>29760.00</td>\n",
       "      <td>2.69e+07</td>\n",
       "      <td>70.00</td>\n",
       "      <td>50.00</td>\n",
       "      <td>1.60e+07</td>\n",
       "    </tr>\n",
       "  </tbody>\n",
       "</table>\n",
       "</div>"
      ],
      "text/plain": [
       "        area_m2  ground_m2  nb_room  nb_bedroom    output\n",
       "count   6880.00   5.74e+03  6311.00     6221.00  7.20e+03\n",
       "mean     313.85   2.45e+04     7.10        4.52  4.53e+05\n",
       "std     1052.33   3.63e+05     3.77        2.34  6.30e+05\n",
       "min        1.00   1.00e+00     2.00        2.00  8.00e+03\n",
       "25%      125.00   1.11e+03     5.00        3.00  1.98e+05\n",
       "50%      180.00   3.00e+03     6.00        4.00  3.11e+05\n",
       "75%      280.00   9.48e+03     8.00        5.00  4.98e+05\n",
       "max    29760.00   2.69e+07    70.00       50.00  1.60e+07"
      ]
     },
     "execution_count": 4,
     "metadata": {},
     "output_type": "execute_result"
    }
   ],
   "source": [
    "df_train_full.describe()"
   ]
  },
  {
   "cell_type": "code",
   "execution_count": 5,
   "metadata": {},
   "outputs": [],
   "source": [
    "Y_trainfull = df_train_full['output']\n",
    "X_trainfull = df_train_full.drop('output', axis=1)"
   ]
  },
  {
   "cell_type": "code",
   "execution_count": 6,
   "metadata": {},
   "outputs": [
    {
     "name": "stdout",
     "output_type": "stream",
     "text": [
      "(7200,)\n",
      "(7200, 11)\n"
     ]
    }
   ],
   "source": [
    "print(Y_trainfull.shape)\n",
    "print(X_trainfull.shape)"
   ]
  },
  {
   "cell_type": "markdown",
   "metadata": {},
   "source": [
    "# Traitement des variables catégorielles"
   ]
  },
  {
   "cell_type": "code",
   "execution_count": 7,
   "metadata": {},
   "outputs": [],
   "source": [
    "cat_columns = ['city', 'county', 'district']"
   ]
  },
  {
   "cell_type": "code",
   "execution_count": 8,
   "metadata": {},
   "outputs": [],
   "source": [
    "X_trainfull = pd.get_dummies(X_trainfull, columns = cat_columns)"
   ]
  },
  {
   "cell_type": "markdown",
   "metadata": {},
   "source": [
    "# Traitement des valeurs manquantes"
   ]
  },
  {
   "cell_type": "code",
   "execution_count": 9,
   "metadata": {},
   "outputs": [
    {
     "data": {
      "text/plain": [
       "ref           False\n",
       "city          False\n",
       "county        False\n",
       "district      False\n",
       "area_m2        True\n",
       "ground_m2      True\n",
       "nb_room        True\n",
       "nb_bedroom     True\n",
       "pool           True\n",
       "cellar         True\n",
       "garage         True\n",
       "output        False\n",
       "dtype: bool"
      ]
     },
     "execution_count": 9,
     "metadata": {},
     "output_type": "execute_result"
    }
   ],
   "source": [
    "df_train_full.isna().any()"
   ]
  },
  {
   "cell_type": "code",
   "execution_count": 10,
   "metadata": {},
   "outputs": [],
   "source": [
    "boolean_columns = ['pool', 'cellar', 'garage']\n",
    "area_column = ['area_m2']\n",
    "ground_column = ['ground_m2']\n",
    "nb_room_column = ['nb_room']\n",
    "nb_bedroom_column = ['nb_bedroom']"
   ]
  },
  {
   "cell_type": "code",
   "execution_count": 11,
   "metadata": {},
   "outputs": [],
   "source": [
    "boolean_pipe = Pipeline(steps=[\n",
    "    ('imputer', SimpleImputer(strategy='constant', fill_value=0)),\n",
    "    ('imputer1', SimpleImputer(missing_values='True', strategy='constant', fill_value=1))\n",
    "])"
   ]
  },
  {
   "cell_type": "code",
   "execution_count": 12,
   "metadata": {},
   "outputs": [],
   "source": [
    "area_pipe = Pipeline(steps=[\n",
    "    ('imputer', SimpleImputer(strategy='median'))\n",
    "])"
   ]
  },
  {
   "cell_type": "code",
   "execution_count": 13,
   "metadata": {},
   "outputs": [],
   "source": [
    "ground_pipe = Pipeline(steps=[\n",
    "    ('imputer', SimpleImputer(strategy='constant', fill_value=0))\n",
    "])"
   ]
  },
  {
   "cell_type": "code",
   "execution_count": 14,
   "metadata": {},
   "outputs": [],
   "source": [
    "room_pipe = Pipeline(steps=[\n",
    "    ('imputer', SimpleImputer(strategy='constant', fill_value=1))\n",
    "])"
   ]
  },
  {
   "cell_type": "code",
   "execution_count": 15,
   "metadata": {},
   "outputs": [],
   "source": [
    "bedroom_pipe = Pipeline(steps=[\n",
    "    ('imputer', SimpleImputer(strategy='constant', fill_value=1))\n",
    "])"
   ]
  },
  {
   "cell_type": "markdown",
   "metadata": {},
   "source": [
    "# Construction du pipeline de pré-traitement"
   ]
  },
  {
   "cell_type": "code",
   "execution_count": 16,
   "metadata": {},
   "outputs": [
    {
     "ename": "NameError",
     "evalue": "name 'categorical_pipe' is not defined",
     "output_type": "error",
     "traceback": [
      "\u001b[1;31m---------------------------------------------------------------------------\u001b[0m",
      "\u001b[1;31mNameError\u001b[0m                                 Traceback (most recent call last)",
      "\u001b[1;32m<ipython-input-16-3085cf8581af>\u001b[0m in \u001b[0;36m<module>\u001b[1;34m\u001b[0m\n\u001b[0;32m      1\u001b[0m preprocess_pipe = ColumnTransformer(transformers=[\n\u001b[1;32m----> 2\u001b[1;33m     \u001b[1;33m(\u001b[0m\u001b[1;34m'cat'\u001b[0m\u001b[1;33m,\u001b[0m \u001b[0mcategorical_pipe\u001b[0m\u001b[1;33m,\u001b[0m \u001b[0mcat_columns\u001b[0m\u001b[1;33m)\u001b[0m\u001b[1;33m,\u001b[0m\u001b[1;33m\u001b[0m\u001b[1;33m\u001b[0m\u001b[0m\n\u001b[0m\u001b[0;32m      3\u001b[0m     \u001b[1;33m(\u001b[0m\u001b[1;34m'bool'\u001b[0m\u001b[1;33m,\u001b[0m \u001b[0mboolean_pipe\u001b[0m\u001b[1;33m,\u001b[0m \u001b[0mboolean_columns\u001b[0m\u001b[1;33m)\u001b[0m\u001b[1;33m,\u001b[0m\u001b[1;33m\u001b[0m\u001b[1;33m\u001b[0m\u001b[0m\n\u001b[0;32m      4\u001b[0m     \u001b[1;33m(\u001b[0m\u001b[1;34m'area'\u001b[0m\u001b[1;33m,\u001b[0m \u001b[0marea_pipe\u001b[0m\u001b[1;33m,\u001b[0m \u001b[0marea_column\u001b[0m\u001b[1;33m)\u001b[0m\u001b[1;33m,\u001b[0m\u001b[1;33m\u001b[0m\u001b[1;33m\u001b[0m\u001b[0m\n\u001b[0;32m      5\u001b[0m     \u001b[1;33m(\u001b[0m\u001b[1;34m'ground'\u001b[0m\u001b[1;33m,\u001b[0m \u001b[0mground_pipe\u001b[0m\u001b[1;33m,\u001b[0m \u001b[0mground_column\u001b[0m\u001b[1;33m)\u001b[0m\u001b[1;33m,\u001b[0m\u001b[1;33m\u001b[0m\u001b[1;33m\u001b[0m\u001b[0m\n",
      "\u001b[1;31mNameError\u001b[0m: name 'categorical_pipe' is not defined"
     ]
    }
   ],
   "source": [
    "preprocess_pipe = ColumnTransformer(transformers=[\n",
    "    ('bool', boolean_pipe, boolean_columns),\n",
    "    ('area', area_pipe, area_column),\n",
    "    ('ground', ground_pipe, ground_column),\n",
    "    ('room', room_pipe, nb_room_column),\n",
    "    ('bedroom', bedroom_pipe, nb_bedroom_column),\n",
    "])"
   ]
  },
  {
   "cell_type": "markdown",
   "metadata": {},
   "source": [
    "# Choix du modèle et intégration dans la pipeline"
   ]
  },
  {
   "cell_type": "code",
   "execution_count": null,
   "metadata": {},
   "outputs": [],
   "source": [
    "model = LinearRegression()"
   ]
  },
  {
   "cell_type": "code",
   "execution_count": null,
   "metadata": {},
   "outputs": [],
   "source": [
    "full_pipe = Pipeline(steps=[\n",
    "    ('pp', preprocess_pipe),\n",
    "    ('reg', model)\n",
    "])"
   ]
  },
  {
   "cell_type": "markdown",
   "metadata": {},
   "source": [
    "# Séparations des données en ensemble d'entraînement et de validation"
   ]
  },
  {
   "cell_type": "code",
   "execution_count": null,
   "metadata": {},
   "outputs": [],
   "source": [
    "X_train, X_val, Y_train, Y_val = train_test_split(X_trainfull, Y_trainfull, random_state = seed)"
   ]
  },
  {
   "cell_type": "code",
   "execution_count": null,
   "metadata": {},
   "outputs": [],
   "source": [
    "print(X_train.shape)\n",
    "print(Y_train.shape)\n",
    "print(X_val.shape)\n",
    "print(Y_val.shape)"
   ]
  },
  {
   "cell_type": "markdown",
   "metadata": {},
   "source": [
    "# Création modèle"
   ]
  },
  {
   "cell_type": "code",
   "execution_count": null,
   "metadata": {},
   "outputs": [],
   "source": [
    " full_pipe.fit(X_train, Y_train);"
   ]
  },
  {
   "cell_type": "code",
   "execution_count": null,
   "metadata": {},
   "outputs": [],
   "source": [
    "train_u = X_train['city'].unique\n",
    "val_u = X_val['city'].unique"
   ]
  },
  {
   "cell_type": "code",
   "execution_count": null,
   "metadata": {},
   "outputs": [],
   "source": [
    "y_train_pred = full_pipe.predict(X_train)\n",
    "y_val_pred = full_pipe.predict(X_val)"
   ]
  },
  {
   "cell_type": "code",
   "execution_count": null,
   "metadata": {},
   "outputs": [],
   "source": [
    "mae_train = round(metrics.mean_absolute_error(Y_train, y_train_pred), 0)\n",
    "mae_val = round(metrics.mean_absolute_error(Y_val, y_val_pred), 0)\n",
    "print('MAE sur train : ', mae_train, '€')\n",
    "print('MAE sur val : ', mae_val, '€')"
   ]
  },
  {
   "cell_type": "code",
   "execution_count": null,
   "metadata": {},
   "outputs": [],
   "source": [
    "pickle.dump(model, open( \"model.file\", \"wb\" ))"
   ]
  },
  {
   "cell_type": "code",
   "execution_count": null,
   "metadata": {},
   "outputs": [],
   "source": []
  }
 ],
 "metadata": {
  "kernelspec": {
   "display_name": "Python 3",
   "language": "python",
   "name": "python3"
  },
  "language_info": {
   "codemirror_mode": {
    "name": "ipython",
    "version": 3
   },
   "file_extension": ".py",
   "mimetype": "text/x-python",
   "name": "python",
   "nbconvert_exporter": "python",
   "pygments_lexer": "ipython3",
   "version": "3.7.4"
  },
  "toc": {
   "base_numbering": 1,
   "nav_menu": {},
   "number_sections": true,
   "sideBar": true,
   "skip_h1_title": false,
   "title_cell": "Table of Contents",
   "title_sidebar": "Contents",
   "toc_cell": false,
   "toc_position": {},
   "toc_section_display": true,
   "toc_window_display": false
  }
 },
 "nbformat": 4,
 "nbformat_minor": 2
}
