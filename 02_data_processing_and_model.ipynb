{
 "cells": [
  {
   "cell_type": "code",
   "execution_count": 36,
   "metadata": {},
   "outputs": [
    {
     "data": {
      "application/javascript": [
       "IPython.notebook.set_autosave_interval(0)"
      ]
     },
     "metadata": {},
     "output_type": "display_data"
    },
    {
     "name": "stdout",
     "output_type": "stream",
     "text": [
      "Autosave disabled\n"
     ]
    }
   ],
   "source": [
    "%autosave 0\n",
    "import numpy \n",
    "import matplotlib.pyplot as plt\n",
    "import pickle\n",
    "import pandas as pd\n",
    "import numpy as np \n",
    "import tensorflow as tf\n",
    "from pandas import read_csv\n",
    "from matplotlib import pyplot\n",
    "from pandas.plotting import scatter_matrix \n",
    "from numpy import set_printoptions \n",
    "from sklearn.model_selection import KFold\n",
    "from sklearn.linear_model import LinearRegression, LogisticRegression\n",
    "from sklearn.ensemble import RandomForestRegressor, BaggingRegressor\n",
    "from sklearn.tree import DecisionTreeRegressor\n",
    "from sklearn.pipeline import Pipeline\n",
    "from sklearn.model_selection import train_test_split\n",
    "from sklearn import metrics\n",
    "from sklearn.preprocessing import OneHotEncoder\n",
    "from sklearn.impute import SimpleImputer\n",
    "from xgboost import XGBRFRegressor, XGBRegressor\n",
    "from sklearn.compose import ColumnTransformer\n",
    "\n",
    "set_printoptions(precision=0)\n",
    "pd.set_option(\"display.precision\", 2)\n",
    "pd.option_context('display.float_format', '{:0f}'.format);\n",
    "\n",
    "seed = 15\n",
    "tf.random.set_seed(seed)\n",
    "# tf.set_random_seed(seed)\n",
    "numpy.random.seed(seed)"
   ]
  },
  {
   "cell_type": "code",
   "execution_count": 2,
   "metadata": {},
   "outputs": [],
   "source": [
    "# Importation du fichier csv dans un dataframe\n",
    "# df_train_full = read_csv( './dataset-template.csv', index_col=0)\n",
    "df_train_full = read_csv( './csv/realstate-data.csv', index_col=0)"
   ]
  },
  {
   "cell_type": "code",
   "execution_count": 3,
   "metadata": {},
   "outputs": [
    {
     "name": "stdout",
     "output_type": "stream",
     "text": [
      "(7200, 11)\n"
     ]
    },
    {
     "data": {
      "text/html": [
       "<div>\n",
       "<style scoped>\n",
       "    .dataframe tbody tr th:only-of-type {\n",
       "        vertical-align: middle;\n",
       "    }\n",
       "\n",
       "    .dataframe tbody tr th {\n",
       "        vertical-align: top;\n",
       "    }\n",
       "\n",
       "    .dataframe thead th {\n",
       "        text-align: right;\n",
       "    }\n",
       "</style>\n",
       "<table border=\"1\" class=\"dataframe\">\n",
       "  <thead>\n",
       "    <tr style=\"text-align: right;\">\n",
       "      <th></th>\n",
       "      <th>city</th>\n",
       "      <th>county</th>\n",
       "      <th>district</th>\n",
       "      <th>area_m2</th>\n",
       "      <th>ground_m2</th>\n",
       "      <th>nb_room</th>\n",
       "      <th>nb_bedroom</th>\n",
       "      <th>pool</th>\n",
       "      <th>cellar</th>\n",
       "      <th>garage</th>\n",
       "      <th>output</th>\n",
       "    </tr>\n",
       "    <tr>\n",
       "      <th>ref</th>\n",
       "      <th></th>\n",
       "      <th></th>\n",
       "      <th></th>\n",
       "      <th></th>\n",
       "      <th></th>\n",
       "      <th></th>\n",
       "      <th></th>\n",
       "      <th></th>\n",
       "      <th></th>\n",
       "      <th></th>\n",
       "      <th></th>\n",
       "    </tr>\n",
       "  </thead>\n",
       "  <tbody>\n",
       "    <tr>\n",
       "      <th>/fr/properties/30731a-133656.htm</th>\n",
       "      <td>Saint-Maurin</td>\n",
       "      <td>Lot-et-Garonne</td>\n",
       "      <td>Aquitaine</td>\n",
       "      <td>100.0</td>\n",
       "      <td>NaN</td>\n",
       "      <td>5.0</td>\n",
       "      <td>3.0</td>\n",
       "      <td>NaN</td>\n",
       "      <td>NaN</td>\n",
       "      <td>NaN</td>\n",
       "      <td>210000</td>\n",
       "    </tr>\n",
       "    <tr>\n",
       "      <th>/fr/properties/88486a-95148cj265.htm</th>\n",
       "      <td>Castelnau-de-Médoc</td>\n",
       "      <td>Gironde</td>\n",
       "      <td>Aquitaine</td>\n",
       "      <td>328.0</td>\n",
       "      <td>3700.0</td>\n",
       "      <td>9.0</td>\n",
       "      <td>4.0</td>\n",
       "      <td>NaN</td>\n",
       "      <td>NaN</td>\n",
       "      <td>True</td>\n",
       "      <td>840000</td>\n",
       "    </tr>\n",
       "    <tr>\n",
       "      <th>/fr/properties/44945a-m728.htm</th>\n",
       "      <td>Peyrehorade</td>\n",
       "      <td>Landes</td>\n",
       "      <td>Aquitaine</td>\n",
       "      <td>814.0</td>\n",
       "      <td>100000.0</td>\n",
       "      <td>19.0</td>\n",
       "      <td>8.0</td>\n",
       "      <td>True</td>\n",
       "      <td>True</td>\n",
       "      <td>NaN</td>\n",
       "      <td>1950000</td>\n",
       "    </tr>\n",
       "    <tr>\n",
       "      <th>/fr/properties/32488a-2534.htm</th>\n",
       "      <td>Bourlens</td>\n",
       "      <td>Lot-et-Garonne</td>\n",
       "      <td>Aquitaine</td>\n",
       "      <td>406.0</td>\n",
       "      <td>13200.0</td>\n",
       "      <td>14.0</td>\n",
       "      <td>10.0</td>\n",
       "      <td>NaN</td>\n",
       "      <td>NaN</td>\n",
       "      <td>NaN</td>\n",
       "      <td>975200</td>\n",
       "    </tr>\n",
       "    <tr>\n",
       "      <th>/fr/properties/32488a-2557.htm</th>\n",
       "      <td>Monsempron-Libos</td>\n",
       "      <td>Lot-et-Garonne</td>\n",
       "      <td>Aquitaine</td>\n",
       "      <td>99.0</td>\n",
       "      <td>35.0</td>\n",
       "      <td>4.0</td>\n",
       "      <td>3.0</td>\n",
       "      <td>NaN</td>\n",
       "      <td>NaN</td>\n",
       "      <td>NaN</td>\n",
       "      <td>101520</td>\n",
       "    </tr>\n",
       "  </tbody>\n",
       "</table>\n",
       "</div>"
      ],
      "text/plain": [
       "                                                    city          county  \\\n",
       "ref                                                                        \n",
       "/fr/properties/30731a-133656.htm            Saint-Maurin  Lot-et-Garonne   \n",
       "/fr/properties/88486a-95148cj265.htm  Castelnau-de-Médoc         Gironde   \n",
       "/fr/properties/44945a-m728.htm               Peyrehorade          Landes   \n",
       "/fr/properties/32488a-2534.htm                  Bourlens  Lot-et-Garonne   \n",
       "/fr/properties/32488a-2557.htm          Monsempron-Libos  Lot-et-Garonne   \n",
       "\n",
       "                                       district  area_m2  ground_m2  nb_room  \\\n",
       "ref                                                                            \n",
       "/fr/properties/30731a-133656.htm      Aquitaine    100.0        NaN      5.0   \n",
       "/fr/properties/88486a-95148cj265.htm  Aquitaine    328.0     3700.0      9.0   \n",
       "/fr/properties/44945a-m728.htm        Aquitaine    814.0   100000.0     19.0   \n",
       "/fr/properties/32488a-2534.htm        Aquitaine    406.0    13200.0     14.0   \n",
       "/fr/properties/32488a-2557.htm        Aquitaine     99.0       35.0      4.0   \n",
       "\n",
       "                                      nb_bedroom  pool cellar garage   output  \n",
       "ref                                                                            \n",
       "/fr/properties/30731a-133656.htm             3.0   NaN    NaN    NaN   210000  \n",
       "/fr/properties/88486a-95148cj265.htm         4.0   NaN    NaN   True   840000  \n",
       "/fr/properties/44945a-m728.htm               8.0  True   True    NaN  1950000  \n",
       "/fr/properties/32488a-2534.htm              10.0   NaN    NaN    NaN   975200  \n",
       "/fr/properties/32488a-2557.htm               3.0   NaN    NaN    NaN   101520  "
      ]
     },
     "execution_count": 3,
     "metadata": {},
     "output_type": "execute_result"
    }
   ],
   "source": [
    "print(df_train_full.shape)\n",
    "df_train_full.head(5)"
   ]
  },
  {
   "cell_type": "code",
   "execution_count": 4,
   "metadata": {},
   "outputs": [
    {
     "data": {
      "text/html": [
       "<div>\n",
       "<style scoped>\n",
       "    .dataframe tbody tr th:only-of-type {\n",
       "        vertical-align: middle;\n",
       "    }\n",
       "\n",
       "    .dataframe tbody tr th {\n",
       "        vertical-align: top;\n",
       "    }\n",
       "\n",
       "    .dataframe thead th {\n",
       "        text-align: right;\n",
       "    }\n",
       "</style>\n",
       "<table border=\"1\" class=\"dataframe\">\n",
       "  <thead>\n",
       "    <tr style=\"text-align: right;\">\n",
       "      <th></th>\n",
       "      <th>area_m2</th>\n",
       "      <th>ground_m2</th>\n",
       "      <th>nb_room</th>\n",
       "      <th>nb_bedroom</th>\n",
       "      <th>output</th>\n",
       "    </tr>\n",
       "  </thead>\n",
       "  <tbody>\n",
       "    <tr>\n",
       "      <th>count</th>\n",
       "      <td>6880.00</td>\n",
       "      <td>5.74e+03</td>\n",
       "      <td>6311.00</td>\n",
       "      <td>6221.00</td>\n",
       "      <td>7.20e+03</td>\n",
       "    </tr>\n",
       "    <tr>\n",
       "      <th>mean</th>\n",
       "      <td>313.85</td>\n",
       "      <td>2.45e+04</td>\n",
       "      <td>7.10</td>\n",
       "      <td>4.52</td>\n",
       "      <td>4.53e+05</td>\n",
       "    </tr>\n",
       "    <tr>\n",
       "      <th>std</th>\n",
       "      <td>1052.33</td>\n",
       "      <td>3.63e+05</td>\n",
       "      <td>3.77</td>\n",
       "      <td>2.34</td>\n",
       "      <td>6.30e+05</td>\n",
       "    </tr>\n",
       "    <tr>\n",
       "      <th>min</th>\n",
       "      <td>1.00</td>\n",
       "      <td>1.00e+00</td>\n",
       "      <td>2.00</td>\n",
       "      <td>2.00</td>\n",
       "      <td>8.00e+03</td>\n",
       "    </tr>\n",
       "    <tr>\n",
       "      <th>25%</th>\n",
       "      <td>125.00</td>\n",
       "      <td>1.11e+03</td>\n",
       "      <td>5.00</td>\n",
       "      <td>3.00</td>\n",
       "      <td>1.98e+05</td>\n",
       "    </tr>\n",
       "    <tr>\n",
       "      <th>50%</th>\n",
       "      <td>180.00</td>\n",
       "      <td>3.00e+03</td>\n",
       "      <td>6.00</td>\n",
       "      <td>4.00</td>\n",
       "      <td>3.11e+05</td>\n",
       "    </tr>\n",
       "    <tr>\n",
       "      <th>75%</th>\n",
       "      <td>280.00</td>\n",
       "      <td>9.48e+03</td>\n",
       "      <td>8.00</td>\n",
       "      <td>5.00</td>\n",
       "      <td>4.98e+05</td>\n",
       "    </tr>\n",
       "    <tr>\n",
       "      <th>max</th>\n",
       "      <td>29760.00</td>\n",
       "      <td>2.69e+07</td>\n",
       "      <td>70.00</td>\n",
       "      <td>50.00</td>\n",
       "      <td>1.60e+07</td>\n",
       "    </tr>\n",
       "  </tbody>\n",
       "</table>\n",
       "</div>"
      ],
      "text/plain": [
       "        area_m2  ground_m2  nb_room  nb_bedroom    output\n",
       "count   6880.00   5.74e+03  6311.00     6221.00  7.20e+03\n",
       "mean     313.85   2.45e+04     7.10        4.52  4.53e+05\n",
       "std     1052.33   3.63e+05     3.77        2.34  6.30e+05\n",
       "min        1.00   1.00e+00     2.00        2.00  8.00e+03\n",
       "25%      125.00   1.11e+03     5.00        3.00  1.98e+05\n",
       "50%      180.00   3.00e+03     6.00        4.00  3.11e+05\n",
       "75%      280.00   9.48e+03     8.00        5.00  4.98e+05\n",
       "max    29760.00   2.69e+07    70.00       50.00  1.60e+07"
      ]
     },
     "execution_count": 4,
     "metadata": {},
     "output_type": "execute_result"
    }
   ],
   "source": [
    "df_train_full.describe()"
   ]
  },
  {
   "cell_type": "code",
   "execution_count": 5,
   "metadata": {},
   "outputs": [],
   "source": [
    "Y_trainfull = df_train_full['output']\n",
    "X_trainfull = df_train_full.drop('output', axis=1)"
   ]
  },
  {
   "cell_type": "code",
   "execution_count": 6,
   "metadata": {},
   "outputs": [
    {
     "name": "stdout",
     "output_type": "stream",
     "text": [
      "(7200,)\n",
      "(7200, 10)\n"
     ]
    }
   ],
   "source": [
    "print(Y_trainfull.shape)\n",
    "print(X_trainfull.shape)"
   ]
  },
  {
   "cell_type": "markdown",
   "metadata": {},
   "source": [
    "# Traitement des variables catégorielles"
   ]
  },
  {
   "cell_type": "code",
   "execution_count": 7,
   "metadata": {},
   "outputs": [],
   "source": [
    "cat_columns = ['city', 'county', 'district']"
   ]
  },
  {
   "cell_type": "code",
   "execution_count": 8,
   "metadata": {},
   "outputs": [],
   "source": [
    "X_trainfull = pd.get_dummies(X_trainfull, columns = cat_columns)"
   ]
  },
  {
   "cell_type": "markdown",
   "metadata": {},
   "source": [
    "# Traitement des valeurs manquantes"
   ]
  },
  {
   "cell_type": "code",
   "execution_count": 9,
   "metadata": {},
   "outputs": [
    {
     "data": {
      "text/plain": [
       "city          False\n",
       "county        False\n",
       "district      False\n",
       "area_m2        True\n",
       "ground_m2      True\n",
       "nb_room        True\n",
       "nb_bedroom     True\n",
       "pool           True\n",
       "cellar         True\n",
       "garage         True\n",
       "output        False\n",
       "dtype: bool"
      ]
     },
     "execution_count": 9,
     "metadata": {},
     "output_type": "execute_result"
    }
   ],
   "source": [
    "df_train_full.isna().any()"
   ]
  },
  {
   "cell_type": "code",
   "execution_count": 10,
   "metadata": {},
   "outputs": [],
   "source": [
    "boolean_columns = ['pool', 'cellar', 'garage']\n",
    "area_column = ['area_m2']\n",
    "ground_column = ['ground_m2']\n",
    "nb_room_column = ['nb_room']\n",
    "nb_bedroom_column = ['nb_bedroom']"
   ]
  },
  {
   "cell_type": "code",
   "execution_count": 11,
   "metadata": {},
   "outputs": [],
   "source": [
    "boolean_pipe = Pipeline(steps=[\n",
    "    ('imputer', SimpleImputer(strategy='constant', fill_value=0)),\n",
    "    ('imputer1', SimpleImputer(missing_values='True', strategy='constant', fill_value=1))\n",
    "])"
   ]
  },
  {
   "cell_type": "code",
   "execution_count": 12,
   "metadata": {},
   "outputs": [],
   "source": [
    "area_pipe = Pipeline(steps=[\n",
    "    ('imputer', SimpleImputer(strategy='median'))\n",
    "])"
   ]
  },
  {
   "cell_type": "code",
   "execution_count": 13,
   "metadata": {},
   "outputs": [],
   "source": [
    "ground_pipe = Pipeline(steps=[\n",
    "    ('imputer', SimpleImputer(strategy='constant', fill_value=0))\n",
    "])"
   ]
  },
  {
   "cell_type": "code",
   "execution_count": 14,
   "metadata": {},
   "outputs": [],
   "source": [
    "room_pipe = Pipeline(steps=[\n",
    "    ('imputer', SimpleImputer(strategy='constant', fill_value=1))\n",
    "])"
   ]
  },
  {
   "cell_type": "code",
   "execution_count": 15,
   "metadata": {},
   "outputs": [],
   "source": [
    "bedroom_pipe = Pipeline(steps=[\n",
    "    ('imputer', SimpleImputer(strategy='constant', fill_value=1))\n",
    "])"
   ]
  },
  {
   "cell_type": "markdown",
   "metadata": {},
   "source": [
    "# Construction du pipeline de pré-traitement"
   ]
  },
  {
   "cell_type": "code",
   "execution_count": 16,
   "metadata": {},
   "outputs": [],
   "source": [
    "preprocess_pipe = ColumnTransformer(transformers=[\n",
    "    ('bool', boolean_pipe, boolean_columns),\n",
    "    ('area', area_pipe, area_column),\n",
    "    ('ground', ground_pipe, ground_column),\n",
    "    ('room', room_pipe, nb_room_column),\n",
    "    ('bedroom', bedroom_pipe, nb_bedroom_column),\n",
    "])"
   ]
  },
  {
   "cell_type": "markdown",
   "metadata": {},
   "source": [
    "# Choix du modèle et intégration dans la pipeline"
   ]
  },
  {
   "cell_type": "code",
   "execution_count": 27,
   "metadata": {},
   "outputs": [],
   "source": [
    "def mae_model(preprocess_pipe, model):\n",
    "\n",
    "    full_pipe = Pipeline(steps=[\n",
    "        ('pp', preprocess_pipe),\n",
    "        ('model', model)\n",
    "    ])\n",
    "\n",
    "    X_train, X_val, Y_train, Y_val = train_test_split(X_trainfull, Y_trainfull, random_state = seed)\n",
    "\n",
    "    full_pipe.fit(X_train, Y_train);\n",
    "\n",
    "    y_train_pred = full_pipe.predict(X_train)\n",
    "    y_val_pred = full_pipe.predict(X_val)\n",
    "\n",
    "    mae_train = round(metrics.mean_absolute_error(Y_train, y_train_pred), 0)\n",
    "    mae_val = round(metrics.mean_absolute_error(Y_val, y_val_pred), 0)\n",
    "\n",
    "    return mae_train, mae_val"
   ]
  },
  {
   "cell_type": "code",
   "execution_count": 25,
   "metadata": {},
   "outputs": [],
   "source": [
    "lin = LinearRegression()\n",
    "log = LogisticRegression()\n",
    "tree = DecisionTreeRegressor()\n",
    "rf = RandomForestRegressor()\n",
    "bag = BaggingRegressor()\n",
    "xgb = XGBRegressor()\n",
    "xgb_rf = XGBRFRegressor()"
   ]
  },
  {
   "cell_type": "code",
   "execution_count": 29,
   "metadata": {},
   "outputs": [],
   "source": [
    "models = [lin, log, tree, rf, bag, xgb, xgb_rf]"
   ]
  },
  {
   "cell_type": "code",
   "execution_count": 31,
   "metadata": {},
   "outputs": [
    {
     "name": "stderr",
     "output_type": "stream",
     "text": [
      "/opt/conda/lib/python3.7/site-packages/sklearn/linear_model/_logistic.py:939: ConvergenceWarning: lbfgs failed to converge (status=1):\n",
      "STOP: TOTAL NO. of ITERATIONS REACHED LIMIT.\n",
      "\n",
      "Increase the number of iterations (max_iter) or scale the data as shown in:\n",
      "    https://scikit-learn.org/stable/modules/preprocessing.html.\n",
      "Please also refer to the documentation for alternative solver options:\n",
      "    https://scikit-learn.org/stable/modules/linear_model.html#logistic-regression\n",
      "  extra_warning_msg=_LOGISTIC_SOLVER_CONVERGENCE_MSG)\n",
      "/opt/conda/lib/python3.7/site-packages/xgboost/core.py:587: FutureWarning: Series.base is deprecated and will be removed in a future version\n",
      "  if getattr(data, 'base', None) is not None and \\\n"
     ]
    },
    {
     "name": "stdout",
     "output_type": "stream",
     "text": [
      "[13:53:10] WARNING: /workspace/src/objective/regression_obj.cu:152: reg:linear is now deprecated in favor of reg:squarederror.\n",
      "[13:53:10] WARNING: /workspace/src/objective/regression_obj.cu:152: reg:linear is now deprecated in favor of reg:squarederror.\n"
     ]
    },
    {
     "name": "stderr",
     "output_type": "stream",
     "text": [
      "/opt/conda/lib/python3.7/site-packages/xgboost/core.py:587: FutureWarning: Series.base is deprecated and will be removed in a future version\n",
      "  if getattr(data, 'base', None) is not None and \\\n"
     ]
    }
   ],
   "source": [
    "errors = []\n",
    "for model in models:\n",
    "    errors += [mae_model(preprocess_pipe, model)]"
   ]
  },
  {
   "cell_type": "code",
   "execution_count": 45,
   "metadata": {
    "cell_style": "center"
   },
   "outputs": [
    {
     "data": {
      "image/png": "[encoded data removed]",
      "text/plain": [
       "<Figure size 432x288 with 1 Axes>"
      ]
     },
     "metadata": {
      "needs_background": "light"
     },
     "output_type": "display_data"
    }
   ],
   "source": [
    "plt.plot(errors);\n",
    "plt.grid();\n",
    "plt.legend(['MAE sur train', 'MAE sur val']);"
   ]
  },
  {
   "cell_type": "markdown",
   "metadata": {
    "cell_style": "split"
   },
   "source": [
    "Du graphique précédent, nous choisissons de conserver le modèle 5 à savoir le modèle xgbregressor"
   ]
  },
  {
   "cell_type": "markdown",
   "metadata": {},
   "source": [
    "# Génération du modèle retenu"
   ]
  },
  {
   "cell_type": "code",
   "execution_count": 46,
   "metadata": {},
   "outputs": [],
   "source": [
    "model = XGBRegressor()"
   ]
  },
  {
   "cell_type": "code",
   "execution_count": 47,
   "metadata": {},
   "outputs": [],
   "source": [
    "full_pipe = Pipeline(steps=[\n",
    "        ('pp', preprocess_pipe),\n",
    "        ('model', model)\n",
    "    ])"
   ]
  },
  {
   "cell_type": "code",
   "execution_count": 48,
   "metadata": {},
   "outputs": [
    {
     "name": "stderr",
     "output_type": "stream",
     "text": [
      "/opt/conda/lib/python3.7/site-packages/xgboost/core.py:587: FutureWarning: Series.base is deprecated and will be removed in a future version\n",
      "  if getattr(data, 'base', None) is not None and \\\n",
      "/opt/conda/lib/python3.7/site-packages/xgboost/core.py:588: FutureWarning: Series.base is deprecated and will be removed in a future version\n",
      "  data.base is not None and isinstance(data, np.ndarray) \\\n"
     ]
    },
    {
     "name": "stdout",
     "output_type": "stream",
     "text": [
      "[14:06:32] WARNING: /workspace/src/objective/regression_obj.cu:152: reg:linear is now deprecated in favor of reg:squarederror.\n"
     ]
    }
   ],
   "source": [
    " full_pipe.fit(X_trainfull, Y_trainfull);"
   ]
  },
  {
   "cell_type": "code",
   "execution_count": 49,
   "metadata": {},
   "outputs": [],
   "source": [
    "y_train_pred = full_pipe.predict(X_trainfull)"
   ]
  },
  {
   "cell_type": "code",
   "execution_count": 52,
   "metadata": {},
   "outputs": [
    {
     "name": "stdout",
     "output_type": "stream",
     "text": [
      "MAE sur train :  202371.0 €\n"
     ]
    }
   ],
   "source": [
    "mae_train = round(metrics.mean_absolute_error(Y_trainfull, y_train_pred), 0)\n",
    "print('MAE sur train : ', mae_train, '€')"
   ]
  },
  {
   "cell_type": "code",
   "execution_count": 53,
   "metadata": {},
   "outputs": [],
   "source": [
    "pickle.dump(model, open( \"model.file\", \"wb\" ))"
   ]
  },
  {
   "cell_type": "code",
   "execution_count": null,
   "metadata": {},
   "outputs": [],
   "source": []
  }
 ],
 "metadata": {
  "kernelspec": {
   "display_name": "Python 3",
   "language": "python",
   "name": "python3"
  },
  "language_info": {
   "codemirror_mode": {
    "name": "ipython",
    "version": 3
   },
   "file_extension": ".py",
   "mimetype": "text/x-python",
   "name": "python",
   "nbconvert_exporter": "python",
   "pygments_lexer": "ipython3",
   "version": "3.7.3"
  },
  "toc": {
   "base_numbering": 1,
   "nav_menu": {},
   "number_sections": true,
   "sideBar": true,
   "skip_h1_title": false,
   "title_cell": "Table of Contents",
   "title_sidebar": "Contents",
   "toc_cell": false,
   "toc_position": {},
   "toc_section_display": true,
   "toc_window_display": false
  }
 },
 "nbformat": 4,
 "nbformat_minor": 2
}
