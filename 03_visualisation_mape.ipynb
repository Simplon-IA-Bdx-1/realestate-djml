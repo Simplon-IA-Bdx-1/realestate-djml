{
 "cells": [
  {
   "cell_type": "code",
   "execution_count": 2,
   "metadata": {},
   "outputs": [],
   "source": [
    "import pandas as pd\n",
    "from pandas import read_csv"
   ]
  },
  {
   "cell_type": "code",
   "execution_count": 3,
   "metadata": {},
   "outputs": [],
   "source": [
    "trainfull_pred = read_csv( './csv/trainfull_pred.csv', index_col=0)\n",
    "Y_trainfull = read_csv( './csv/Y_trainfull.csv', index_col=0)"
   ]
  },
  {
   "cell_type": "code",
   "execution_count": 7,
   "metadata": {},
   "outputs": [
    {
     "data": {
      "text/html": [
       "<div>\n",
       "<style scoped>\n",
       "    .dataframe tbody tr th:only-of-type {\n",
       "        vertical-align: middle;\n",
       "    }\n",
       "\n",
       "    .dataframe tbody tr th {\n",
       "        vertical-align: top;\n",
       "    }\n",
       "\n",
       "    .dataframe thead th {\n",
       "        text-align: right;\n",
       "    }\n",
       "</style>\n",
       "<table border=\"1\" class=\"dataframe\">\n",
       "  <thead>\n",
       "    <tr style=\"text-align: right;\">\n",
       "      <th></th>\n",
       "    </tr>\n",
       "    <tr>\n",
       "      <th>0</th>\n",
       "    </tr>\n",
       "  </thead>\n",
       "  <tbody>\n",
       "    <tr>\n",
       "      <td>298676.75</td>\n",
       "    </tr>\n",
       "    <tr>\n",
       "      <td>448231.38</td>\n",
       "    </tr>\n",
       "    <tr>\n",
       "      <td>1834645.20</td>\n",
       "    </tr>\n",
       "    <tr>\n",
       "      <td>587965.20</td>\n",
       "    </tr>\n",
       "    <tr>\n",
       "      <td>244051.14</td>\n",
       "    </tr>\n",
       "    <tr>\n",
       "      <td>...</td>\n",
       "    </tr>\n",
       "    <tr>\n",
       "      <td>500480.75</td>\n",
       "    </tr>\n",
       "    <tr>\n",
       "      <td>395718.94</td>\n",
       "    </tr>\n",
       "    <tr>\n",
       "      <td>722398.40</td>\n",
       "    </tr>\n",
       "    <tr>\n",
       "      <td>295575.75</td>\n",
       "    </tr>\n",
       "    <tr>\n",
       "      <td>626435.56</td>\n",
       "    </tr>\n",
       "  </tbody>\n",
       "</table>\n",
       "<p>7200 rows × 0 columns</p>\n",
       "</div>"
      ],
      "text/plain": [
       "Empty DataFrame\n",
       "Columns: []\n",
       "Index: [298676.75, 448231.38, 1834645.2, 587965.2, 244051.14, 247083.44, 285834.88, 270073.53, 249208.12, 302007.12, 547622.3, 412829.16, 284409.66, 205273.77, 586311.0, 224633.98, 216240.42, 297574.0, 406769.5, 231918.33, 367201.28, 292004.53, 228837.47, 355424.44, 348080.6, 315788.72, 873693.56, 247477.06, 436582.4, 365819.2, 646588.94, 177439.44, 204099.88, 614543.7, 224633.98, 406769.5, 196952.2, 296984.22, 834644.56, 261837.42, 607917.4, 298676.75, 635163.25, 270424.72, 444027.88, 257275.83, 527108.0, 1207563.5, 726524.6, 400792.72, 241304.6, 416838.0, 272377.16, 479074.28, 262759.56, 605714.75, 300407.8, 829873.44, 499688.47, 462442.38, 266364.97, 781536.0, 592274.94, 288245.34, 257633.95, 302988.56, 791451.94, 454162.53, 268898.72, 334575.7, 795491.56, 671463.3, 454480.22, 247477.06, 648101.6, 617601.94, 247558.42, 397667.56, 728255.7, 386480.88, 362939.47, 454162.53, 246073.19, 358392.6, 455668.75, 841701.5, 372071.7, 292004.53, 249208.12, 246073.19, 1198013.2, 286514.28, 359722.22, 899484.8, 247194.55, 400178.44, 2095283.1, 2445599.5, 271139.72, 320607.44, ...]\n",
       "\n",
       "[7200 rows x 0 columns]"
      ]
     },
     "execution_count": 7,
     "metadata": {},
     "output_type": "execute_result"
    }
   ],
   "source": [
    "trainfull_pred"
   ]
  },
  {
   "cell_type": "code",
   "execution_count": 6,
   "metadata": {},
   "outputs": [
    {
     "data": {
      "text/html": [
       "<div>\n",
       "<style scoped>\n",
       "    .dataframe tbody tr th:only-of-type {\n",
       "        vertical-align: middle;\n",
       "    }\n",
       "\n",
       "    .dataframe tbody tr th {\n",
       "        vertical-align: top;\n",
       "    }\n",
       "\n",
       "    .dataframe thead th {\n",
       "        text-align: right;\n",
       "    }\n",
       "</style>\n",
       "<table border=\"1\" class=\"dataframe\">\n",
       "  <thead>\n",
       "    <tr style=\"text-align: right;\">\n",
       "      <th></th>\n",
       "      <th>0</th>\n",
       "    </tr>\n",
       "  </thead>\n",
       "  <tbody>\n",
       "    <tr>\n",
       "      <td>0</td>\n",
       "      <td>Empty DataFrame\n",
       "Columns: []\n",
       "Index: [298676.75,...</td>\n",
       "    </tr>\n",
       "    <tr>\n",
       "      <td>1</td>\n",
       "      <td>Empty DataFrame\n",
       "Columns: []\n",
       "Index: [840000, 19...</td>\n",
       "    </tr>\n",
       "  </tbody>\n",
       "</table>\n",
       "</div>"
      ],
      "text/plain": [
       "                                                   0\n",
       "0  Empty DataFrame\n",
       "Columns: []\n",
       "Index: [298676.75,...\n",
       "1  Empty DataFrame\n",
       "Columns: []\n",
       "Index: [840000, 19..."
      ]
     },
     "execution_count": 6,
     "metadata": {},
     "output_type": "execute_result"
    }
   ],
   "source": [
    "df = pd.DataFrame([trainfull_pred, Y_trainfull])\n",
    "df"
   ]
  },
  {
   "cell_type": "code",
   "execution_count": null,
   "metadata": {},
   "outputs": [],
   "source": []
  }
 ],
 "metadata": {
  "kernelspec": {
   "display_name": "Python 3",
   "language": "python",
   "name": "python3"
  },
  "language_info": {
   "codemirror_mode": {
    "name": "ipython",
    "version": 3
   },
   "file_extension": ".py",
   "mimetype": "text/x-python",
   "name": "python",
   "nbconvert_exporter": "python",
   "pygments_lexer": "ipython3",
   "version": "3.7.3"
  },
  "toc": {
   "base_numbering": 1,
   "nav_menu": {},
   "number_sections": true,
   "sideBar": true,
   "skip_h1_title": false,
   "title_cell": "Table of Contents",
   "title_sidebar": "Contents",
   "toc_cell": false,
   "toc_position": {},
   "toc_section_display": true,
   "toc_window_display": false
  }
 },
 "nbformat": 4,
 "nbformat_minor": 2
}
