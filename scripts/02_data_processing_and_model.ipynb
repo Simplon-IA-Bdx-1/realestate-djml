{
 "cells": [
  {
   "cell_type": "code",
   "execution_count": 1,
   "metadata": {},
   "outputs": [
    {
     "data": {
      "application/javascript": [
       "IPython.notebook.set_autosave_interval(0)"
      ]
     },
     "metadata": {},
     "output_type": "display_data"
    },
    {
     "name": "stdout",
     "output_type": "stream",
     "text": [
      "Autosave disabled\n"
     ]
    }
   ],
   "source": [
    "%autosave 0\n",
    "import os\n",
    "import glob\n",
    "import numpy \n",
    "import matplotlib.pyplot as plt\n",
    "import pickle\n",
    "import pandas as pd\n",
    "import numpy as np \n",
    "import tensorflow as tf\n",
    "from pandas import read_csv\n",
    "from matplotlib import pyplot\n",
    "from pandas.plotting import scatter_matrix \n",
    "from numpy import set_printoptions\n",
    "from sklearn.model_selection import KFold\n",
    "from sklearn.linear_model import LinearRegression, LogisticRegression\n",
    "from sklearn.ensemble import RandomForestRegressor, BaggingRegressor\n",
    "from sklearn.tree import DecisionTreeRegressor\n",
    "from sklearn.pipeline import Pipeline\n",
    "from sklearn.model_selection import train_test_split\n",
    "from sklearn import metrics\n",
    "from sklearn.preprocessing import OneHotEncoder\n",
    "from sklearn.impute import SimpleImputer\n",
    "from xgboost import XGBRFRegressor, XGBRegressor\n",
    "from sklearn.compose import ColumnTransformer\n",
    "from datetime import datetime\n",
    "from mlflow import log_metric, log_param\n",
    "\n",
    "set_printoptions(precision=0)\n",
    "pd.set_option(\"display.precision\", 2)\n",
    "pd.option_context('display.float_format', '{:0f}'.format);\n",
    "\n",
    "seed = 15\n",
    "tf.random.set_seed(seed)\n",
    "# tf.set_random_seed(seed)\n",
    "numpy.random.seed(seed)"
   ]
  },
  {
   "cell_type": "markdown",
   "metadata": {},
   "source": [
    "# création du dataset final"
   ]
  },
  {
   "cell_type": "markdown",
   "metadata": {},
   "source": [
    "récupération de tous les fichiers csv commençant par dataset_final "
   ]
  },
  {
   "cell_type": "code",
   "execution_count": 2,
   "metadata": {},
   "outputs": [],
   "source": [
    "extension = 'csv'\n",
    "all_filenames = [i for i in glob.glob('../csv/dataset_final_*.{}'.format(extension))]"
   ]
  },
  {
   "cell_type": "markdown",
   "metadata": {},
   "source": [
    "concaténation de tous les fichiers récupérés afin d'en obtenir qu'un seul"
   ]
  },
  {
   "cell_type": "code",
   "execution_count": 3,
   "metadata": {},
   "outputs": [],
   "source": [
    "#combine all files in the list\n",
    "combined_csv = pd.concat([pd.read_csv(f) for f in all_filenames ])\n",
    "#export to csv\n",
    "combined_csv.to_csv( \"../csv/dataset_final.csv\", index=False, encoding='utf-8-sig')"
   ]
  },
  {
   "cell_type": "markdown",
   "metadata": {},
   "source": [
    "# préprocessing du dataset"
   ]
  },
  {
   "cell_type": "markdown",
   "metadata": {},
   "source": [
    "récupération du fichier csv concaténé précédement"
   ]
  },
  {
   "cell_type": "code",
   "execution_count": 4,
   "metadata": {},
   "outputs": [],
   "source": [
    "# Importation du fichier csv dans un dataframe\n",
    "df_train_full = read_csv('../csv/dataset_final.csv', index_col=0)"
   ]
  },
  {
   "cell_type": "markdown",
   "metadata": {},
   "source": [
    "mise en forme du dataframe"
   ]
  },
  {
   "cell_type": "code",
   "execution_count": 5,
   "metadata": {},
   "outputs": [
    {
     "name": "stdout",
     "output_type": "stream",
     "text": [
      "(8880, 12)\n"
     ]
    },
    {
     "data": {
      "text/html": [
       "<div>\n",
       "<style scoped>\n",
       "    .dataframe tbody tr th:only-of-type {\n",
       "        vertical-align: middle;\n",
       "    }\n",
       "\n",
       "    .dataframe tbody tr th {\n",
       "        vertical-align: top;\n",
       "    }\n",
       "\n",
       "    .dataframe thead th {\n",
       "        text-align: right;\n",
       "    }\n",
       "</style>\n",
       "<table border=\"1\" class=\"dataframe\">\n",
       "  <thead>\n",
       "    <tr style=\"text-align: right;\">\n",
       "      <th></th>\n",
       "      <th>city</th>\n",
       "      <th>departement</th>\n",
       "      <th>region</th>\n",
       "      <th>type</th>\n",
       "      <th>living_area_m2</th>\n",
       "      <th>lot_size_m2</th>\n",
       "      <th>nb_room</th>\n",
       "      <th>nb_bedroom</th>\n",
       "      <th>pool</th>\n",
       "      <th>cellar</th>\n",
       "      <th>garage</th>\n",
       "      <th>output</th>\n",
       "    </tr>\n",
       "    <tr>\n",
       "      <th>ref</th>\n",
       "      <th></th>\n",
       "      <th></th>\n",
       "      <th></th>\n",
       "      <th></th>\n",
       "      <th></th>\n",
       "      <th></th>\n",
       "      <th></th>\n",
       "      <th></th>\n",
       "      <th></th>\n",
       "      <th></th>\n",
       "      <th></th>\n",
       "      <th></th>\n",
       "    </tr>\n",
       "  </thead>\n",
       "  <tbody>\n",
       "    <tr>\n",
       "      <th>/fr/properties/20949a-s2519.htm</th>\n",
       "      <td>Thiviers</td>\n",
       "      <td>Dordogne</td>\n",
       "      <td>Aquitaine</td>\n",
       "      <td>manoir</td>\n",
       "      <td>385.0</td>\n",
       "      <td>3446.0</td>\n",
       "      <td>12.0</td>\n",
       "      <td>7.0</td>\n",
       "      <td>False</td>\n",
       "      <td>True</td>\n",
       "      <td>False</td>\n",
       "      <td>475000</td>\n",
       "    </tr>\n",
       "    <tr>\n",
       "      <th>/fr/properties/66377a-4508aail.htm</th>\n",
       "      <td>Casteljaloux</td>\n",
       "      <td>Lot-et-Garonne</td>\n",
       "      <td>Aquitaine</td>\n",
       "      <td>terrain</td>\n",
       "      <td>8610.0</td>\n",
       "      <td>8610.0</td>\n",
       "      <td>NaN</td>\n",
       "      <td>NaN</td>\n",
       "      <td>False</td>\n",
       "      <td>False</td>\n",
       "      <td>False</td>\n",
       "      <td>74000</td>\n",
       "    </tr>\n",
       "    <tr>\n",
       "      <th>/fr/properties/58577a-609.htm</th>\n",
       "      <td>Périgueux</td>\n",
       "      <td>Dordogne</td>\n",
       "      <td>Aquitaine</td>\n",
       "      <td>fond de commerce</td>\n",
       "      <td>200.0</td>\n",
       "      <td>NaN</td>\n",
       "      <td>5.0</td>\n",
       "      <td>NaN</td>\n",
       "      <td>False</td>\n",
       "      <td>True</td>\n",
       "      <td>True</td>\n",
       "      <td>386900</td>\n",
       "    </tr>\n",
       "    <tr>\n",
       "      <th>/fr/properties/2756a-30293986.htm</th>\n",
       "      <td>Blaye</td>\n",
       "      <td>Gironde</td>\n",
       "      <td>Aquitaine</td>\n",
       "      <td>maison</td>\n",
       "      <td>154.0</td>\n",
       "      <td>901.0</td>\n",
       "      <td>6.0</td>\n",
       "      <td>5.0</td>\n",
       "      <td>False</td>\n",
       "      <td>False</td>\n",
       "      <td>False</td>\n",
       "      <td>170500</td>\n",
       "    </tr>\n",
       "    <tr>\n",
       "      <th>/fr/properties/30412a-127963rr.htm</th>\n",
       "      <td>Bougarber</td>\n",
       "      <td>Pyrénées-Atlantiques</td>\n",
       "      <td>Aquitaine</td>\n",
       "      <td>autre</td>\n",
       "      <td>169.0</td>\n",
       "      <td>1500.0</td>\n",
       "      <td>8.0</td>\n",
       "      <td>4.0</td>\n",
       "      <td>False</td>\n",
       "      <td>False</td>\n",
       "      <td>True</td>\n",
       "      <td>265000</td>\n",
       "    </tr>\n",
       "  </tbody>\n",
       "</table>\n",
       "</div>"
      ],
      "text/plain": [
       "                                            city           departement  \\\n",
       "ref                                                                      \n",
       "/fr/properties/20949a-s2519.htm         Thiviers              Dordogne   \n",
       "/fr/properties/66377a-4508aail.htm  Casteljaloux        Lot-et-Garonne   \n",
       "/fr/properties/58577a-609.htm          Périgueux              Dordogne   \n",
       "/fr/properties/2756a-30293986.htm          Blaye               Gironde   \n",
       "/fr/properties/30412a-127963rr.htm     Bougarber  Pyrénées-Atlantiques   \n",
       "\n",
       "                                       region              type  \\\n",
       "ref                                                               \n",
       "/fr/properties/20949a-s2519.htm     Aquitaine            manoir   \n",
       "/fr/properties/66377a-4508aail.htm  Aquitaine           terrain   \n",
       "/fr/properties/58577a-609.htm       Aquitaine  fond de commerce   \n",
       "/fr/properties/2756a-30293986.htm   Aquitaine            maison   \n",
       "/fr/properties/30412a-127963rr.htm  Aquitaine             autre   \n",
       "\n",
       "                                    living_area_m2  lot_size_m2  nb_room  \\\n",
       "ref                                                                        \n",
       "/fr/properties/20949a-s2519.htm              385.0       3446.0     12.0   \n",
       "/fr/properties/66377a-4508aail.htm          8610.0       8610.0      NaN   \n",
       "/fr/properties/58577a-609.htm                200.0          NaN      5.0   \n",
       "/fr/properties/2756a-30293986.htm            154.0        901.0      6.0   \n",
       "/fr/properties/30412a-127963rr.htm           169.0       1500.0      8.0   \n",
       "\n",
       "                                    nb_bedroom   pool  cellar  garage  output  \n",
       "ref                                                                            \n",
       "/fr/properties/20949a-s2519.htm            7.0  False    True   False  475000  \n",
       "/fr/properties/66377a-4508aail.htm         NaN  False   False   False   74000  \n",
       "/fr/properties/58577a-609.htm              NaN  False    True    True  386900  \n",
       "/fr/properties/2756a-30293986.htm          5.0  False   False   False  170500  \n",
       "/fr/properties/30412a-127963rr.htm         4.0  False   False    True  265000  "
      ]
     },
     "execution_count": 5,
     "metadata": {},
     "output_type": "execute_result"
    }
   ],
   "source": [
    "df_train_full = df_train_full.set_index('ref')\n",
    "df_train_full = df_train_full.drop(columns=['titre'])\n",
    "print(df_train_full.shape)\n",
    "df_train_full.head(5)"
   ]
  },
  {
   "cell_type": "code",
   "execution_count": 6,
   "metadata": {},
   "outputs": [
    {
     "data": {
      "text/html": [
       "<div>\n",
       "<style scoped>\n",
       "    .dataframe tbody tr th:only-of-type {\n",
       "        vertical-align: middle;\n",
       "    }\n",
       "\n",
       "    .dataframe tbody tr th {\n",
       "        vertical-align: top;\n",
       "    }\n",
       "\n",
       "    .dataframe thead th {\n",
       "        text-align: right;\n",
       "    }\n",
       "</style>\n",
       "<table border=\"1\" class=\"dataframe\">\n",
       "  <thead>\n",
       "    <tr style=\"text-align: right;\">\n",
       "      <th></th>\n",
       "      <th>living_area_m2</th>\n",
       "      <th>lot_size_m2</th>\n",
       "      <th>nb_room</th>\n",
       "      <th>nb_bedroom</th>\n",
       "      <th>output</th>\n",
       "    </tr>\n",
       "  </thead>\n",
       "  <tbody>\n",
       "    <tr>\n",
       "      <th>count</th>\n",
       "      <td>8238.00</td>\n",
       "      <td>6.83e+03</td>\n",
       "      <td>7250.00</td>\n",
       "      <td>7134.00</td>\n",
       "      <td>8.88e+03</td>\n",
       "    </tr>\n",
       "    <tr>\n",
       "      <th>mean</th>\n",
       "      <td>321.09</td>\n",
       "      <td>1.69e+04</td>\n",
       "      <td>6.80</td>\n",
       "      <td>4.30</td>\n",
       "      <td>4.12e+05</td>\n",
       "    </tr>\n",
       "    <tr>\n",
       "      <th>std</th>\n",
       "      <td>1086.92</td>\n",
       "      <td>7.31e+04</td>\n",
       "      <td>3.73</td>\n",
       "      <td>2.24</td>\n",
       "      <td>6.16e+05</td>\n",
       "    </tr>\n",
       "    <tr>\n",
       "      <th>min</th>\n",
       "      <td>1.00</td>\n",
       "      <td>1.00e+00</td>\n",
       "      <td>2.00</td>\n",
       "      <td>2.00</td>\n",
       "      <td>8.00e+03</td>\n",
       "    </tr>\n",
       "    <tr>\n",
       "      <th>25%</th>\n",
       "      <td>112.00</td>\n",
       "      <td>9.87e+02</td>\n",
       "      <td>4.00</td>\n",
       "      <td>3.00</td>\n",
       "      <td>1.56e+05</td>\n",
       "    </tr>\n",
       "    <tr>\n",
       "      <th>50%</th>\n",
       "      <td>168.00</td>\n",
       "      <td>2.50e+03</td>\n",
       "      <td>6.00</td>\n",
       "      <td>4.00</td>\n",
       "      <td>2.68e+05</td>\n",
       "    </tr>\n",
       "    <tr>\n",
       "      <th>75%</th>\n",
       "      <td>260.00</td>\n",
       "      <td>7.00e+03</td>\n",
       "      <td>8.00</td>\n",
       "      <td>5.00</td>\n",
       "      <td>4.57e+05</td>\n",
       "    </tr>\n",
       "    <tr>\n",
       "      <th>max</th>\n",
       "      <td>32767.00</td>\n",
       "      <td>1.94e+06</td>\n",
       "      <td>50.00</td>\n",
       "      <td>42.00</td>\n",
       "      <td>1.60e+07</td>\n",
       "    </tr>\n",
       "  </tbody>\n",
       "</table>\n",
       "</div>"
      ],
      "text/plain": [
       "       living_area_m2  lot_size_m2  nb_room  nb_bedroom    output\n",
       "count         8238.00     6.83e+03  7250.00     7134.00  8.88e+03\n",
       "mean           321.09     1.69e+04     6.80        4.30  4.12e+05\n",
       "std           1086.92     7.31e+04     3.73        2.24  6.16e+05\n",
       "min              1.00     1.00e+00     2.00        2.00  8.00e+03\n",
       "25%            112.00     9.87e+02     4.00        3.00  1.56e+05\n",
       "50%            168.00     2.50e+03     6.00        4.00  2.68e+05\n",
       "75%            260.00     7.00e+03     8.00        5.00  4.57e+05\n",
       "max          32767.00     1.94e+06    50.00       42.00  1.60e+07"
      ]
     },
     "execution_count": 6,
     "metadata": {},
     "output_type": "execute_result"
    }
   ],
   "source": [
    "df_train_full.describe()"
   ]
  },
  {
   "cell_type": "markdown",
   "metadata": {},
   "source": [
    "split du dataframe en input et output"
   ]
  },
  {
   "cell_type": "code",
   "execution_count": 7,
   "metadata": {},
   "outputs": [],
   "source": [
    "Y_trainfull = df_train_full['output']\n",
    "X_trainfull = df_train_full.drop('output', axis=1)"
   ]
  },
  {
   "cell_type": "code",
   "execution_count": 8,
   "metadata": {},
   "outputs": [
    {
     "name": "stdout",
     "output_type": "stream",
     "text": [
      "(8880,)\n",
      "(8880, 11)\n"
     ]
    }
   ],
   "source": [
    "print(Y_trainfull.shape)\n",
    "print(X_trainfull.shape)"
   ]
  },
  {
   "cell_type": "markdown",
   "metadata": {},
   "source": [
    "Récupération de la liste des villes"
   ]
  },
  {
   "cell_type": "code",
   "execution_count": 34,
   "metadata": {},
   "outputs": [],
   "source": [
    "import json\n",
    "\n",
    "list_ville = X_trainfull[\"city\"].unique()\n",
    "list_ville\n",
    "\n",
    "with open(\"../csv/liste_ville.txt\", \"w\") as output:\n",
    "    for row in list_ville:\n",
    "        output.write(str(row) + '\\n')"
   ]
  },
  {
   "cell_type": "code",
   "execution_count": 35,
   "metadata": {},
   "outputs": [],
   "source": [
    "list_departement = X_trainfull[\"departement\"].unique()\n",
    "list_departement\n",
    "\n",
    "with open(\"../csv/list_departement.txt\", \"w\") as output:\n",
    "    for row in list_departement:\n",
    "        output.write(str(row) + '\\n')"
   ]
  },
  {
   "cell_type": "code",
   "execution_count": 36,
   "metadata": {},
   "outputs": [],
   "source": [
    "list_region = X_trainfull[\"city\"].unique()\n",
    "list_region\n",
    "\n",
    "with open(\"../csv/list_region.txt\", \"w\") as output:\n",
    "    for row in list_region:\n",
    "        output.write(str(row) + '\\n')"
   ]
  },
  {
   "cell_type": "markdown",
   "metadata": {},
   "source": [
    "# Traitement des variables catégorielles"
   ]
  },
  {
   "cell_type": "markdown",
   "metadata": {},
   "source": [
    "Sélection de toutes les colonnes concernant les variables catégorielles"
   ]
  },
  {
   "cell_type": "code",
   "execution_count": null,
   "metadata": {},
   "outputs": [],
   "source": [
    "cat_columns = ['city', 'departement', 'region', 'type']"
   ]
  },
  {
   "cell_type": "markdown",
   "metadata": {},
   "source": [
    "création des pipelines onehotencoder afin de transformer les variables catégorielles en quantitatives"
   ]
  },
  {
   "cell_type": "code",
   "execution_count": null,
   "metadata": {},
   "outputs": [],
   "source": [
    "city_pipe = Pipeline(steps=[\n",
    "    ('one', OneHotEncoder(categories = [X_trainfull['city'].unique()]))\n",
    "])"
   ]
  },
  {
   "cell_type": "code",
   "execution_count": null,
   "metadata": {},
   "outputs": [],
   "source": [
    "departement_pipe = Pipeline(steps=[\n",
    "    ('one', OneHotEncoder(categories = [X_trainfull['departement'].unique()]))\n",
    "])"
   ]
  },
  {
   "cell_type": "code",
   "execution_count": null,
   "metadata": {},
   "outputs": [],
   "source": [
    "region_pipe = Pipeline(steps=[\n",
    "    ('one', OneHotEncoder(categories = [X_trainfull['region'].unique()]))\n",
    "])"
   ]
  },
  {
   "cell_type": "code",
   "execution_count": null,
   "metadata": {},
   "outputs": [],
   "source": [
    "type_pipe = Pipeline(steps=[\n",
    "    ('one', OneHotEncoder(categories = [X_trainfull['type'].unique()]))\n",
    "])"
   ]
  },
  {
   "cell_type": "markdown",
   "metadata": {},
   "source": [
    "# Traitement des valeurs manquantes"
   ]
  },
  {
   "cell_type": "markdown",
   "metadata": {},
   "source": [
    "Détection de la présence de valeurs manquantes"
   ]
  },
  {
   "cell_type": "code",
   "execution_count": null,
   "metadata": {},
   "outputs": [],
   "source": [
    "df_train_full.isna().any()"
   ]
  },
  {
   "cell_type": "markdown",
   "metadata": {},
   "source": [
    "Sélection des colonnes de valeurs quantitatives"
   ]
  },
  {
   "cell_type": "code",
   "execution_count": null,
   "metadata": {},
   "outputs": [],
   "source": [
    "boolean_columns = ['pool', 'cellar', 'garage']\n",
    "area_column = ['living_area_m2']\n",
    "ground_column = ['lot_size_m2']\n",
    "nb_room_column = ['nb_room']\n",
    "nb_bedroom_column = ['nb_bedroom']"
   ]
  },
  {
   "cell_type": "markdown",
   "metadata": {},
   "source": [
    "Création des pipelines gérant les valeurs manquantes dans les colonnes de valeurs quantitatives"
   ]
  },
  {
   "cell_type": "code",
   "execution_count": null,
   "metadata": {},
   "outputs": [],
   "source": [
    "area_pipe = Pipeline(steps=[\n",
    "    ('imputer', SimpleImputer(strategy='median'))\n",
    "])"
   ]
  },
  {
   "cell_type": "code",
   "execution_count": null,
   "metadata": {},
   "outputs": [],
   "source": [
    "ground_pipe = Pipeline(steps=[\n",
    "    ('imputer', SimpleImputer(strategy='constant', fill_value=0))\n",
    "])"
   ]
  },
  {
   "cell_type": "code",
   "execution_count": null,
   "metadata": {},
   "outputs": [],
   "source": [
    "room_pipe = Pipeline(steps=[\n",
    "    ('imputer', SimpleImputer(strategy='constant', fill_value=1))\n",
    "])"
   ]
  },
  {
   "cell_type": "code",
   "execution_count": null,
   "metadata": {},
   "outputs": [],
   "source": [
    "bedroom_pipe = Pipeline(steps=[\n",
    "    ('imputer', SimpleImputer(strategy='constant', fill_value=1))\n",
    "])"
   ]
  },
  {
   "cell_type": "markdown",
   "metadata": {},
   "source": [
    "# Construction du pipeline de pré-traitement"
   ]
  },
  {
   "cell_type": "code",
   "execution_count": null,
   "metadata": {},
   "outputs": [],
   "source": [
    "preprocess_pipe = ColumnTransformer(transformers=[\n",
    "    ('city', city_pipe, ['city']),\n",
    "    ('departement', departement_pipe, ['departement']),\n",
    "    ('region', region_pipe, ['region']),\n",
    "    ('type', type_pipe, ['type']),\n",
    "    ('area', area_pipe, area_column),\n",
    "    ('ground', ground_pipe, ground_column),\n",
    "    ('room', room_pipe, nb_room_column),\n",
    "    ('bedroom', bedroom_pipe, nb_bedroom_column),\n",
    "])"
   ]
  },
  {
   "cell_type": "markdown",
   "metadata": {},
   "source": [
    "# Choix du modèle et intégration dans la pipeline"
   ]
  },
  {
   "cell_type": "markdown",
   "metadata": {},
   "source": [
    "Création de la fonction calculant la valeur moyenne absolut en pourcentage d'erreur"
   ]
  },
  {
   "cell_type": "code",
   "execution_count": null,
   "metadata": {},
   "outputs": [],
   "source": [
    "def mean_absolute_percentage_error(y_true, y_pred): \n",
    "    y_true, y_pred = np.array(y_true), np.array(y_pred)\n",
    "    return round(np.mean(np.abs((y_true - y_pred) / y_true)) * 100, 2)"
   ]
  },
  {
   "cell_type": "markdown",
   "metadata": {},
   "source": [
    "Création de la fonction de test de différents modèles"
   ]
  },
  {
   "cell_type": "code",
   "execution_count": null,
   "metadata": {},
   "outputs": [],
   "source": [
    "def mae_model(preprocess_pipe, model):\n",
    "\n",
    "    full_pipe = Pipeline(steps=[\n",
    "        ('pp', preprocess_pipe),\n",
    "        ('model', model)\n",
    "    ])\n",
    "\n",
    "    X_train, X_val, Y_train, Y_val = train_test_split(X_trainfull, Y_trainfull,\n",
    "                                                      test_size = 0.2, random_state = seed)\n",
    "\n",
    "    full_pipe.fit(X_train, Y_train);\n",
    "\n",
    "    y_train_pred = full_pipe.predict(X_train)\n",
    "    y_val_pred = full_pipe.predict(X_val)\n",
    "\n",
    "    mae_train = round(mean_absolute_percentage_error(Y_train, y_train_pred), 0)\n",
    "    mae_val = round(mean_absolute_percentage_error(Y_val, y_val_pred), 0)\n",
    "\n",
    "    return mae_train, mae_val"
   ]
  },
  {
   "cell_type": "markdown",
   "metadata": {},
   "source": [
    "Liste des différents modèles"
   ]
  },
  {
   "cell_type": "code",
   "execution_count": null,
   "metadata": {},
   "outputs": [],
   "source": [
    "lin = LinearRegression()\n",
    "#log = LogisticRegression()\n",
    "tree = DecisionTreeRegressor()\n",
    "rf = RandomForestRegressor()\n",
    "bag = BaggingRegressor()\n",
    "xgb = XGBRegressor()\n",
    "xgb_rf = XGBRFRegressor()"
   ]
  },
  {
   "cell_type": "code",
   "execution_count": null,
   "metadata": {},
   "outputs": [],
   "source": [
    "models = [lin, tree, rf, bag, xgb, xgb_rf]"
   ]
  },
  {
   "cell_type": "markdown",
   "metadata": {},
   "source": [
    "calcul du MAPE"
   ]
  },
  {
   "cell_type": "code",
   "execution_count": null,
   "metadata": {},
   "outputs": [],
   "source": [
    "errors = []\n",
    "for model in models:\n",
    "    errors += [mae_model(preprocess_pipe, model)]\n",
    "\n",
    "print(errors)"
   ]
  },
  {
   "cell_type": "code",
   "execution_count": null,
   "metadata": {
    "cell_style": "center"
   },
   "outputs": [],
   "source": [
    "plt.plot(errors);\n",
    "plt.grid();\n",
    "plt.legend(['MAPE sur train', 'MAPE sur val']);"
   ]
  },
  {
   "cell_type": "markdown",
   "metadata": {
    "cell_style": "split"
   },
   "source": [
    "Du graphique précédent, nous choisissons de conserver le modèle 5 à savoir le modèle xgbregressor"
   ]
  },
  {
   "cell_type": "markdown",
   "metadata": {},
   "source": [
    "# Génération du modèle retenu"
   ]
  },
  {
   "cell_type": "code",
   "execution_count": null,
   "metadata": {},
   "outputs": [],
   "source": [
    "model = XGBRegressor()"
   ]
  },
  {
   "cell_type": "code",
   "execution_count": null,
   "metadata": {},
   "outputs": [],
   "source": [
    "full_pipe = Pipeline(steps=[\n",
    "        ('pp', preprocess_pipe),\n",
    "        ('model', model)\n",
    "    ])"
   ]
  },
  {
   "cell_type": "code",
   "execution_count": null,
   "metadata": {},
   "outputs": [],
   "source": [
    "full_pipe.fit(X_trainfull, Y_trainfull);"
   ]
  },
  {
   "cell_type": "markdown",
   "metadata": {},
   "source": [
    "## exportation du modèle"
   ]
  },
  {
   "cell_type": "code",
   "execution_count": null,
   "metadata": {},
   "outputs": [],
   "source": [
    "# suppression du fichier si un ancien modèle existe\n",
    "if os.path.exists('../models/full_pipe.file'):\n",
    "    os.remove('../models/full_pipe.file')\n",
    "else:\n",
    "    print(\"Impossible de supprimer le fichier car il n'existe pas\")"
   ]
  },
  {
   "cell_type": "code",
   "execution_count": null,
   "metadata": {},
   "outputs": [],
   "source": [
    "model_file_name = \"../models/full_pipe_\" + str(datetime.today())+ \".file\"\n",
    "last_model_name = \"../models/full_pipe.file\""
   ]
  },
  {
   "cell_type": "code",
   "execution_count": null,
   "metadata": {
    "scrolled": true
   },
   "outputs": [],
   "source": [
    "pickle.dump(full_pipe, open(model_file_name, \"wb\" ))\n",
    "pickle.dump(full_pipe, open(last_model_name, \"wb\" ))"
   ]
  },
  {
   "cell_type": "markdown",
   "metadata": {},
   "source": [
    "# Prédictions"
   ]
  },
  {
   "cell_type": "markdown",
   "metadata": {},
   "source": [
    "## chargement du modèle"
   ]
  },
  {
   "cell_type": "code",
   "execution_count": null,
   "metadata": {},
   "outputs": [],
   "source": [
    "full_pipe = pickle.load(open(last_model_name, \"rb\"))"
   ]
  },
  {
   "cell_type": "code",
   "execution_count": null,
   "metadata": {},
   "outputs": [],
   "source": [
    "type(full_pipe)"
   ]
  },
  {
   "cell_type": "markdown",
   "metadata": {},
   "source": [
    "## prédiction sur trainfull complet"
   ]
  },
  {
   "cell_type": "code",
   "execution_count": null,
   "metadata": {},
   "outputs": [],
   "source": [
    "X_trainfull"
   ]
  },
  {
   "cell_type": "code",
   "execution_count": null,
   "metadata": {},
   "outputs": [],
   "source": [
    "y_train_pred = full_pipe.predict(X_trainfull)"
   ]
  },
  {
   "cell_type": "code",
   "execution_count": null,
   "metadata": {},
   "outputs": [],
   "source": [
    "mape_train = round(metrics.mean_absolute_percentage_error(Y_trainfull, y_train_pred), 0)\n",
    "print('MAPE sur train : ', mape_train, '€')"
   ]
  },
  {
   "cell_type": "code",
   "execution_count": null,
   "metadata": {},
   "outputs": [],
   "source": [
    "trainfull_pred = pd.DataFrame(y_train_pred)\n",
    "trainfull_pred.to_csv('../csv/trainfull_pred.csv', index=False)\n",
    "Y_trainfull.to_csv('../csv/Y_trainfull.csv', index=False)"
   ]
  },
  {
   "cell_type": "markdown",
   "metadata": {},
   "source": [
    "## prédiction sur valeur unique"
   ]
  },
  {
   "cell_type": "code",
   "execution_count": null,
   "metadata": {},
   "outputs": [],
   "source": [
    "new_value = pd.DataFrame(data = [\n",
    "    ['Bordeaux', 'Gironde', 'Aquitaine', 'appartement', 54, 12, 1, 1, 'True', 'True', 'True']\n",
    "    ], index = ['test'], columns = X_trainfull.columns)\n",
    "\n",
    "new_value.index.name = 'ref'\n",
    "new_value"
   ]
  },
  {
   "cell_type": "code",
   "execution_count": null,
   "metadata": {},
   "outputs": [],
   "source": [
    "full_pipe.predict(new_value)"
   ]
  },
  {
   "cell_type": "markdown",
   "metadata": {},
   "source": [
    "# Enregistrement des résultats si voulus (mettre log = True)\n",
    "-> accessible sous localhost:3000"
   ]
  },
  {
   "cell_type": "code",
   "execution_count": null,
   "metadata": {},
   "outputs": [],
   "source": [
    "log_param(\"X_trainfull.shape\", X_trainfull.shape)\n",
    "log_metric(\"MAE sur train\", mae_train)"
   ]
  },
  {
   "cell_type": "code",
   "execution_count": null,
   "metadata": {},
   "outputs": [],
   "source": []
  }
 ],
 "metadata": {
  "kernelspec": {
   "display_name": "Python 3",
   "language": "python",
   "name": "python3"
  },
  "language_info": {
   "codemirror_mode": {
    "name": "ipython",
    "version": 3
   },
   "file_extension": ".py",
   "mimetype": "text/x-python",
   "name": "python",
   "nbconvert_exporter": "python",
   "pygments_lexer": "ipython3",
   "version": "3.7.3"
  },
  "toc": {
   "base_numbering": 1,
   "nav_menu": {},
   "number_sections": true,
   "sideBar": true,
   "skip_h1_title": false,
   "title_cell": "Table of Contents",
   "title_sidebar": "Contents",
   "toc_cell": false,
   "toc_position": {},
   "toc_section_display": true,
   "toc_window_display": false
  }
 },
 "nbformat": 4,
 "nbformat_minor": 2
}
