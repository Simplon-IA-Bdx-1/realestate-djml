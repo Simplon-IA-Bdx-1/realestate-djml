{
 "cells": [
  {
   "cell_type": "code",
   "execution_count": null,
   "metadata": {},
   "outputs": [],
   "source": [
    "%autosave 0\n",
    "import os\n",
    "import glob\n",
    "import numpy \n",
    "import matplotlib.pyplot as plt\n",
    "import pickle\n",
    "import pandas as pd\n",
    "import numpy as np \n",
    "import tensorflow as tf\n",
    "from pandas import read_csv\n",
    "from matplotlib import pyplot\n",
    "from pandas.plotting import scatter_matrix \n",
    "from numpy import set_printoptions\n",
    "from sklearn.model_selection import KFold\n",
    "from sklearn.linear_model import LinearRegression, LogisticRegression\n",
    "from sklearn.ensemble import RandomForestRegressor, BaggingRegressor\n",
    "from sklearn.tree import DecisionTreeRegressor\n",
    "from sklearn.pipeline import Pipeline\n",
    "from sklearn.model_selection import train_test_split\n",
    "from sklearn import metrics\n",
    "from sklearn.preprocessing import OneHotEncoder\n",
    "from sklearn.impute import SimpleImputer\n",
    "from xgboost import XGBRFRegressor, XGBRegressor\n",
    "from sklearn.compose import ColumnTransformer\n",
    "from datetime import datetime\n",
    "from mlflow import log_metric, log_param\n",
    "\n",
    "set_printoptions(precision=0)\n",
    "pd.set_option(\"display.precision\", 2)\n",
    "pd.option_context('display.float_format', '{:0f}'.format);\n",
    "\n",
    "seed = 15\n",
    "tf.random.set_seed(seed)\n",
    "# tf.set_random_seed(seed)\n",
    "numpy.random.seed(seed)"
   ]
  },
  {
   "cell_type": "markdown",
   "metadata": {},
   "source": [
    "# création du dataset final"
   ]
  },
  {
   "cell_type": "markdown",
   "metadata": {},
   "source": [
    "récupération de tous les fichiers csv commençant par dataset_final "
   ]
  },
  {
   "cell_type": "code",
   "execution_count": null,
   "metadata": {},
   "outputs": [],
   "source": [
    "extension = 'csv'\n",
    "all_filenames = [i for i in glob.glob('../csv/dataset_final_*.{}'.format(extension))]"
   ]
  },
  {
   "cell_type": "markdown",
   "metadata": {},
   "source": [
    "concaténation de tous les fichiers récupérés afin d'en obtenir qu'un seul"
   ]
  },
  {
   "cell_type": "code",
   "execution_count": null,
   "metadata": {},
   "outputs": [],
   "source": [
    "#combine all files in the list\n",
    "combined_csv = pd.concat([pd.read_csv(f) for f in all_filenames ])\n",
    "#export to csv\n",
    "combined_csv.to_csv( \"../csv/dataset_final.csv\", index=False, encoding='utf-8-sig')"
   ]
  },
  {
   "cell_type": "markdown",
   "metadata": {},
   "source": [
    "# préprocessing du dataset"
   ]
  },
  {
   "cell_type": "markdown",
   "metadata": {},
   "source": [
    "récupération du fichier csv concaténé précédement"
   ]
  },
  {
   "cell_type": "code",
   "execution_count": null,
   "metadata": {},
   "outputs": [],
   "source": [
    "# Importation du fichier csv dans un dataframe\n",
    "df_train_full = read_csv('../csv/dataset_final.csv', index_col=0)\n",
    "df_train_full.head()"
   ]
  },
  {
   "cell_type": "markdown",
   "metadata": {},
   "source": [
    "mise en forme du dataframe"
   ]
  },
  {
   "cell_type": "code",
   "execution_count": null,
   "metadata": {},
   "outputs": [],
   "source": [
    "# df_train_full = df_train_full.set_index('ref')\n",
    "df_train_full = df_train_full.drop(columns=['titre','publish_date'])\n",
    "print(df_train_full.shape)\n",
    "df_train_full.head(5)"
   ]
  },
  {
   "cell_type": "code",
   "execution_count": null,
   "metadata": {},
   "outputs": [],
   "source": [
    "df_train_full.describe()"
   ]
  },
  {
   "cell_type": "markdown",
   "metadata": {},
   "source": [
    "split du dataframe en input et output"
   ]
  },
  {
   "cell_type": "code",
   "execution_count": null,
   "metadata": {},
   "outputs": [],
   "source": [
    "Y_trainfull = df_train_full['output']\n",
    "X_trainfull = df_train_full.drop('output', axis=1)"
   ]
  },
  {
   "cell_type": "code",
   "execution_count": null,
   "metadata": {},
   "outputs": [],
   "source": [
    "print(Y_trainfull.shape)\n",
    "print(X_trainfull.shape)"
   ]
  },
  {
   "cell_type": "markdown",
   "metadata": {},
   "source": [
    "Récupération de la liste des villes"
   ]
  },
  {
   "cell_type": "code",
   "execution_count": null,
   "metadata": {},
   "outputs": [],
   "source": [
    "list_ville = X_trainfull[\"city\"].unique()\n",
    "list_departement = X_trainfull[\"departement\"].unique()\n",
    "list_region = X_trainfull[\"region\"].unique()"
   ]
  },
  {
   "cell_type": "code",
   "execution_count": null,
   "metadata": {},
   "outputs": [],
   "source": [
    "df_ville = pd.DataFrame(list_ville, columns = ['list_ville'])\n",
    "df_departement = pd.DataFrame(list_departement, columns = ['list_departement'])\n",
    "df_region = pd.DataFrame(list_region, columns = ['list_region'])\n",
    "\n",
    "frames = [df_ville, df_departement, df_region]\n",
    "\n",
    "result = pd.concat(frames, axis=1)\n",
    "result.to_csv('../templates/list_html.csv', index=False)"
   ]
  },
  {
   "cell_type": "markdown",
   "metadata": {},
   "source": [
    "# Traitement des variables catégorielles"
   ]
  },
  {
   "cell_type": "markdown",
   "metadata": {},
   "source": [
    "Sélection de toutes les colonnes concernant les variables catégorielles"
   ]
  },
  {
   "cell_type": "code",
   "execution_count": null,
   "metadata": {},
   "outputs": [],
   "source": [
    "cat_columns = ['city', 'departement', 'region', 'type']"
   ]
  },
  {
   "cell_type": "markdown",
   "metadata": {},
   "source": [
    "création des pipelines onehotencoder afin de transformer les variables catégorielles en quantitatives"
   ]
  },
  {
   "cell_type": "code",
   "execution_count": null,
   "metadata": {},
   "outputs": [],
   "source": [
    "city_pipe = Pipeline(steps=[\n",
    "    ('one', OneHotEncoder(categories = [X_trainfull['city'].unique()]))\n",
    "])"
   ]
  },
  {
   "cell_type": "code",
   "execution_count": null,
   "metadata": {},
   "outputs": [],
   "source": [
    "departement_pipe = Pipeline(steps=[\n",
    "    ('one', OneHotEncoder(categories = [X_trainfull['departement'].unique()]))\n",
    "])"
   ]
  },
  {
   "cell_type": "code",
   "execution_count": null,
   "metadata": {},
   "outputs": [],
   "source": [
    "region_pipe = Pipeline(steps=[\n",
    "    ('one', OneHotEncoder(categories = [X_trainfull['region'].unique()]))\n",
    "])"
   ]
  },
  {
   "cell_type": "code",
   "execution_count": null,
   "metadata": {},
   "outputs": [],
   "source": [
    "type_pipe = Pipeline(steps=[\n",
    "    ('one', OneHotEncoder(categories = [X_trainfull['type'].unique()]))\n",
    "])"
   ]
  },
  {
   "cell_type": "markdown",
   "metadata": {},
   "source": [
    "# Traitement des valeurs manquantes"
   ]
  },
  {
   "cell_type": "markdown",
   "metadata": {},
   "source": [
    "Détection de la présence de valeurs manquantes"
   ]
  },
  {
   "cell_type": "code",
   "execution_count": null,
   "metadata": {},
   "outputs": [],
   "source": [
    "df_train_full.isna().any()"
   ]
  },
  {
   "cell_type": "markdown",
   "metadata": {},
   "source": [
    "Sélection des colonnes de valeurs quantitatives"
   ]
  },
  {
   "cell_type": "code",
   "execution_count": null,
   "metadata": {},
   "outputs": [],
   "source": [
    "boolean_columns = ['pool', 'cellar', 'garage']\n",
    "area_column = ['living_area_m2']\n",
    "ground_column = ['lot_size_m2']\n",
    "nb_room_column = ['nb_room']\n",
    "nb_bedroom_column = ['nb_bedroom']"
   ]
  },
  {
   "cell_type": "markdown",
   "metadata": {},
   "source": [
    "Création des pipelines gérant les valeurs manquantes dans les colonnes de valeurs quantitatives"
   ]
  },
  {
   "cell_type": "code",
   "execution_count": null,
   "metadata": {},
   "outputs": [],
   "source": [
    "area_pipe = Pipeline(steps=[\n",
    "    ('imputer', SimpleImputer(strategy='median'))\n",
    "])"
   ]
  },
  {
   "cell_type": "code",
   "execution_count": null,
   "metadata": {},
   "outputs": [],
   "source": [
    "ground_pipe = Pipeline(steps=[\n",
    "    ('imputer', SimpleImputer(strategy='constant', fill_value=0))\n",
    "])"
   ]
  },
  {
   "cell_type": "code",
   "execution_count": null,
   "metadata": {},
   "outputs": [],
   "source": [
    "room_pipe = Pipeline(steps=[\n",
    "    ('imputer', SimpleImputer(strategy='constant', fill_value=1))\n",
    "])"
   ]
  },
  {
   "cell_type": "code",
   "execution_count": null,
   "metadata": {},
   "outputs": [],
   "source": [
    "bedroom_pipe = Pipeline(steps=[\n",
    "    ('imputer', SimpleImputer(strategy='constant', fill_value=1))\n",
    "])"
   ]
  },
  {
   "cell_type": "markdown",
   "metadata": {},
   "source": [
    "# Construction du pipeline de pré-traitement"
   ]
  },
  {
   "cell_type": "code",
   "execution_count": null,
   "metadata": {},
   "outputs": [],
   "source": [
    "preprocess_pipe = ColumnTransformer(transformers=[\n",
    "    ('city', city_pipe, ['city']),\n",
    "    ('departement', departement_pipe, ['departement']),\n",
    "    ('region', region_pipe, ['region']),\n",
    "    ('type', type_pipe, ['type']),\n",
    "    ('area', area_pipe, area_column),\n",
    "    ('ground', ground_pipe, ground_column),\n",
    "    ('room', room_pipe, nb_room_column),\n",
    "    ('bedroom', bedroom_pipe, nb_bedroom_column),\n",
    "])"
   ]
  },
  {
   "cell_type": "markdown",
   "metadata": {},
   "source": [
    "# Choix du modèle et intégration dans la pipeline"
   ]
  },
  {
   "cell_type": "markdown",
   "metadata": {},
   "source": [
    "Création de la fonction calculant la valeur moyenne absolut en pourcentage d'erreur"
   ]
  },
  {
   "cell_type": "code",
   "execution_count": null,
   "metadata": {},
   "outputs": [],
   "source": [
    "def mean_absolute_percentage_error(y_true, y_pred): \n",
    "    y_true, y_pred = np.array(y_true), np.array(y_pred)\n",
    "    return round(np.mean(np.abs((y_true - y_pred) / y_true)) * 100, 2)"
   ]
  },
  {
   "cell_type": "markdown",
   "metadata": {},
   "source": [
    "Création de la fonction de test de différents modèles"
   ]
  },
  {
   "cell_type": "code",
   "execution_count": null,
   "metadata": {},
   "outputs": [],
   "source": [
    "def mae_model(preprocess_pipe, model):\n",
    "\n",
    "    full_pipe = Pipeline(steps=[\n",
    "        ('pp', preprocess_pipe),\n",
    "        ('model', model)\n",
    "    ])\n",
    "\n",
    "    X_train, X_val, Y_train, Y_val = train_test_split(X_trainfull, Y_trainfull,\n",
    "                                                      test_size = 0.2, random_state = seed)\n",
    "\n",
    "    full_pipe.fit(X_train, Y_train);\n",
    "\n",
    "    y_train_pred = full_pipe.predict(X_train)\n",
    "    y_val_pred = full_pipe.predict(X_val)\n",
    "\n",
    "    mae_train = round(mean_absolute_percentage_error(Y_train, y_train_pred), 0)\n",
    "    mae_val = round(mean_absolute_percentage_error(Y_val, y_val_pred), 0)\n",
    "\n",
    "    return mae_train, mae_val"
   ]
  },
  {
   "cell_type": "markdown",
   "metadata": {},
   "source": [
    "Liste des différents modèles"
   ]
  },
  {
   "cell_type": "code",
   "execution_count": null,
   "metadata": {},
   "outputs": [],
   "source": [
    "lin = LinearRegression()\n",
    "#log = LogisticRegression()\n",
    "tree = DecisionTreeRegressor()\n",
    "rf = RandomForestRegressor()\n",
    "bag = BaggingRegressor()\n",
    "xgb = XGBRegressor()\n",
    "xgb_rf = XGBRFRegressor()"
   ]
  },
  {
   "cell_type": "code",
   "execution_count": null,
   "metadata": {},
   "outputs": [],
   "source": [
    "models = [lin, tree, rf, bag, xgb, xgb_rf]"
   ]
  },
  {
   "cell_type": "markdown",
   "metadata": {},
   "source": [
    "calcul du MAPE"
   ]
  },
  {
   "cell_type": "code",
   "execution_count": null,
   "metadata": {},
   "outputs": [],
   "source": [
    "errors = []\n",
    "for model in models:\n",
    "    errors += [mae_model(preprocess_pipe, model)]\n",
    "\n",
    "print(errors)"
   ]
  },
  {
   "cell_type": "code",
   "execution_count": null,
   "metadata": {
    "cell_style": "center"
   },
   "outputs": [],
   "source": [
    "plt.plot(errors);\n",
    "plt.grid();\n",
    "plt.legend(['MAPE sur train', 'MAPE sur val']);"
   ]
  },
  {
   "cell_type": "markdown",
   "metadata": {
    "cell_style": "split"
   },
   "source": [
    "Du graphique précédent, nous choisissons de conserver le modèle 5 à savoir le modèle xgbregressor"
   ]
  },
  {
   "cell_type": "markdown",
   "metadata": {},
   "source": [
    "# Génération du modèle retenu"
   ]
  },
  {
   "cell_type": "code",
   "execution_count": null,
   "metadata": {},
   "outputs": [],
   "source": [
    "model = XGBRegressor()"
   ]
  },
  {
   "cell_type": "code",
   "execution_count": null,
   "metadata": {},
   "outputs": [],
   "source": [
    "full_pipe = Pipeline(steps=[\n",
    "        ('pp', preprocess_pipe),\n",
    "        ('model', model)\n",
    "    ])"
   ]
  },
  {
   "cell_type": "code",
   "execution_count": null,
   "metadata": {},
   "outputs": [],
   "source": [
    "full_pipe.fit(X_trainfull, Y_trainfull);"
   ]
  },
  {
   "cell_type": "markdown",
   "metadata": {},
   "source": [
    "## exportation du modèle"
   ]
  },
  {
   "cell_type": "code",
   "execution_count": null,
   "metadata": {},
   "outputs": [],
   "source": [
    "# suppression du fichier si un ancien modèle existe\n",
    "if os.path.exists('../models/full_pipe.file'):\n",
    "    os.remove('../models/full_pipe.file')\n",
    "else:\n",
    "    print(\"Impossible de supprimer le fichier car il n'existe pas\")"
   ]
  },
  {
   "cell_type": "code",
   "execution_count": null,
   "metadata": {},
   "outputs": [],
   "source": [
    "model_file_name = \"../models/full_pipe_\" + str(datetime.today())+ \".file\"\n",
    "last_model_name = \"../models/full_pipe.file\""
   ]
  },
  {
   "cell_type": "code",
   "execution_count": null,
   "metadata": {
    "scrolled": true
   },
   "outputs": [],
   "source": [
    "pickle.dump(full_pipe, open(model_file_name, \"wb\" ))\n",
    "pickle.dump(full_pipe, open(last_model_name, \"wb\" ))"
   ]
  },
  {
   "cell_type": "markdown",
   "metadata": {},
   "source": [
    "# Prédictions"
   ]
  },
  {
   "cell_type": "markdown",
   "metadata": {},
   "source": [
    "## chargement du modèle"
   ]
  },
  {
   "cell_type": "code",
   "execution_count": null,
   "metadata": {},
   "outputs": [],
   "source": [
    "full_pipe = pickle.load(open(last_model_name, \"rb\"))"
   ]
  },
  {
   "cell_type": "code",
   "execution_count": null,
   "metadata": {},
   "outputs": [],
   "source": [
    "type(full_pipe)"
   ]
  },
  {
   "cell_type": "markdown",
   "metadata": {},
   "source": [
    "## prédiction sur trainfull complet"
   ]
  },
  {
   "cell_type": "code",
   "execution_count": null,
   "metadata": {},
   "outputs": [],
   "source": [
    "X_trainfull"
   ]
  },
  {
   "cell_type": "code",
   "execution_count": null,
   "metadata": {},
   "outputs": [],
   "source": [
    "y_train_pred = full_pipe.predict(X_trainfull)"
   ]
  },
  {
   "cell_type": "code",
   "execution_count": null,
   "metadata": {},
   "outputs": [],
   "source": [
    "mape_train = round(metrics.mean_absolute_percentage_error(Y_trainfull, y_train_pred), 0)\n",
    "print('MAPE sur train : ', mape_train, '€')"
   ]
  },
  {
   "cell_type": "code",
   "execution_count": null,
   "metadata": {},
   "outputs": [],
   "source": [
    "trainfull_pred = pd.DataFrame(y_train_pred)\n",
    "trainfull_pred.to_csv('../csv/trainfull_pred.csv', index=False)\n",
    "Y_trainfull.to_csv('../csv/Y_trainfull.csv', index=False)"
   ]
  },
  {
   "cell_type": "markdown",
   "metadata": {},
   "source": [
    "## prédiction sur valeur unique"
   ]
  },
  {
   "cell_type": "code",
   "execution_count": null,
   "metadata": {},
   "outputs": [],
   "source": [
    "new_value = pd.DataFrame(data = [\n",
    "    ['Bordeaux', 'Gironde', 'Aquitaine', 'appartement', 54, 12, 1, 1, 'True', 'True', 'True']\n",
    "    ], index = ['test'], columns = X_trainfull.columns)\n",
    "\n",
    "new_value.index.name = 'ref'\n",
    "new_value"
   ]
  },
  {
   "cell_type": "code",
   "execution_count": null,
   "metadata": {},
   "outputs": [],
   "source": [
    "full_pipe.predict(new_value)"
   ]
  },
  {
   "cell_type": "markdown",
   "metadata": {},
   "source": [
    "# Enregistrement des résultats si voulus (mettre log = True)\n",
    "-> accessible sous localhost:3000"
   ]
  },
  {
   "cell_type": "code",
   "execution_count": null,
   "metadata": {},
   "outputs": [],
   "source": [
    "log_param(\"X_trainfull.shape\", X_trainfull.shape)\n",
    "log_metric(\"MAE sur train\", mae_train)"
   ]
  },
  {
   "cell_type": "code",
   "execution_count": null,
   "metadata": {},
   "outputs": [],
   "source": []
  }
 ],
 "metadata": {
  "kernelspec": {
   "display_name": "Python 3",
   "language": "python",
   "name": "python3"
  },
  "language_info": {
   "codemirror_mode": {
    "name": "ipython",
    "version": 3
   },
   "file_extension": ".py",
   "mimetype": "text/x-python",
   "name": "python",
   "nbconvert_exporter": "python",
   "pygments_lexer": "ipython3",
   "version": "3.7.6"
  },
  "toc": {
   "base_numbering": 1,
   "nav_menu": {},
   "number_sections": true,
   "sideBar": true,
   "skip_h1_title": false,
   "title_cell": "Table of Contents",
   "title_sidebar": "Contents",
   "toc_cell": false,
   "toc_position": {},
   "toc_section_display": true,
   "toc_window_display": false
  }
 },
 "nbformat": 4,
 "nbformat_minor": 2
}
